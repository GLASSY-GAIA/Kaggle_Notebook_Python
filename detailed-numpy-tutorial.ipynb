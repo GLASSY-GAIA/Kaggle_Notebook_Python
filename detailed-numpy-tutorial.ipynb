{
 "cells": [
  {
   "cell_type": "markdown",
   "metadata": {
    "papermill": {
     "duration": 0.08795,
     "end_time": "2021-07-18T14:06:50.397015",
     "exception": false,
     "start_time": "2021-07-18T14:06:50.309065",
     "status": "completed"
    },
    "tags": []
   },
   "source": [
    "# Introduction\n",
    "\n",
    "**NumPy stands for numeric python which is a python package for the computation and processing of the multidimensional and single dimensional array elements. NumPy provides various powerful data structures, implementing multi-dimensional arrays and matrices. These data structures are used for the optimal computations regarding arrays and matrices.**\n",
    "\n",
    "**Travis Oliphant** created NumPy package in 2005 by injecting the features of the ancestor module Numeric into another module Numarray. It is an extension module of Python which is mostly written in C. It provides various functions which are capable of performing the numeric computations with a high speed."
   ]
  },
  {
   "cell_type": "markdown",
   "metadata": {
    "papermill": {
     "duration": 0.088942,
     "end_time": "2021-07-18T14:06:50.574767",
     "exception": false,
     "start_time": "2021-07-18T14:06:50.485825",
     "status": "completed"
    },
    "tags": []
   },
   "source": [
    "# NumPy Tutorial 🐠\n",
    "\n",
    "The numpy is a popular Python library that is provided as 3rd party. The numpy provides an array, lists related operations in an easy-use way. In order to use it we have to install and import it ."
   ]
  },
  {
   "cell_type": "markdown",
   "metadata": {
    "papermill": {
     "duration": 0.090738,
     "end_time": "2021-07-18T14:06:59.912424",
     "exception": false,
     "start_time": "2021-07-18T14:06:59.821686",
     "status": "completed"
    },
    "tags": []
   },
   "source": [
    "**Import numpy**\n",
    "\n",
    "The numpy should be imported in order to use it. It can be imported by using the import statement and module name like below."
   ]
  },
  {
   "cell_type": "code",
   "execution_count": 2,
   "metadata": {
    "execution": {
     "iopub.execute_input": "2021-07-18T14:07:00.103825Z",
     "iopub.status.busy": "2021-07-18T14:07:00.102774Z",
     "iopub.status.idle": "2021-07-18T14:07:00.105778Z",
     "shell.execute_reply": "2021-07-18T14:07:00.105123Z",
     "shell.execute_reply.started": "2021-07-15T01:59:59.42336Z"
    },
    "papermill": {
     "duration": 0.102701,
     "end_time": "2021-07-18T14:07:00.105938",
     "exception": false,
     "start_time": "2021-07-18T14:07:00.003237",
     "status": "completed"
    },
    "tags": []
   },
   "outputs": [],
   "source": [
    "import numpy "
   ]
  },
  {
   "cell_type": "markdown",
   "metadata": {
    "papermill": {
     "duration": 0.08976,
     "end_time": "2021-07-18T14:07:00.287480",
     "exception": false,
     "start_time": "2021-07-18T14:07:00.197720",
     "status": "completed"
    },
    "tags": []
   },
   "source": [
    "But typing the numpy every time we use one of the elements of numpy is not a practical way. So Python provides the alias which can be used to create alias which is generally a shorter name for the specified module. The following import statement can be used with the “as” statement in order to create alias “np” for the numpy."
   ]
  },
  {
   "cell_type": "code",
   "execution_count": 3,
   "metadata": {
    "execution": {
     "iopub.execute_input": "2021-07-18T14:07:00.471632Z",
     "iopub.status.busy": "2021-07-18T14:07:00.470680Z",
     "iopub.status.idle": "2021-07-18T14:07:00.477597Z",
     "shell.execute_reply": "2021-07-18T14:07:00.478359Z",
     "shell.execute_reply.started": "2021-07-15T02:00:03.191257Z"
    },
    "papermill": {
     "duration": 0.100977,
     "end_time": "2021-07-18T14:07:00.478606",
     "exception": false,
     "start_time": "2021-07-18T14:07:00.377629",
     "status": "completed"
    },
    "tags": []
   },
   "outputs": [
    {
     "name": "stdout",
     "output_type": "stream",
     "text": [
      "1.19.5\n"
     ]
    }
   ],
   "source": [
    "import numpy as np\n",
    "\n",
    "# To Check numpy version \n",
    "\n",
    "print(np.__version__)"
   ]
  },
  {
   "cell_type": "markdown",
   "metadata": {
    "papermill": {
     "duration": 0.124712,
     "end_time": "2021-07-18T14:07:00.695701",
     "exception": false,
     "start_time": "2021-07-18T14:07:00.570989",
     "status": "completed"
    },
    "tags": []
   },
   "source": [
    "# NumPy Ndarray\n",
    "\n",
    "Ndarray is the n-dimensional array object defined in the numpy which stores the collection of the similar type of elements. In other words, we can define a ndarray as the collection of the data type (dtype) objects.\n",
    "\n",
    "The ndarray object can be accessed by using the 0 based indexing. Each element of the Array object contains the same size in the memory.\n",
    "\n",
    "*Syntax to create Ndarray is given below.*\n",
    "\n",
    "**numpy.array(object, dtype = None, copy = True, order = None, subok = False, ndmin = 0)**\n",
    "\n"
   ]
  },
  {
   "cell_type": "code",
   "execution_count": 4,
   "metadata": {
    "execution": {
     "iopub.execute_input": "2021-07-18T14:07:00.880344Z",
     "iopub.status.busy": "2021-07-18T14:07:00.879332Z",
     "iopub.status.idle": "2021-07-18T14:07:00.889524Z",
     "shell.execute_reply": "2021-07-18T14:07:00.888986Z",
     "shell.execute_reply.started": "2021-07-15T02:00:07.420276Z"
    },
    "papermill": {
     "duration": 0.103501,
     "end_time": "2021-07-18T14:07:00.889686",
     "exception": false,
     "start_time": "2021-07-18T14:07:00.786185",
     "status": "completed"
    },
    "tags": []
   },
   "outputs": [
    {
     "name": "stdout",
     "output_type": "stream",
     "text": [
      "One dimensional array a = [ 3  6 32  7]\n"
     ]
    }
   ],
   "source": [
    "# Creating One Ddimensional  array\n",
    "import numpy as np\n",
    "\n",
    "a=np.array([3,6,32,7])\n",
    "print(\"One dimensional array a =\",a)"
   ]
  },
  {
   "cell_type": "code",
   "execution_count": 5,
   "metadata": {
    "execution": {
     "iopub.execute_input": "2021-07-18T14:07:01.078586Z",
     "iopub.status.busy": "2021-07-18T14:07:01.077875Z",
     "iopub.status.idle": "2021-07-18T14:07:01.084381Z",
     "shell.execute_reply": "2021-07-18T14:07:01.083044Z",
     "shell.execute_reply.started": "2021-07-15T02:00:11.031049Z"
    },
    "papermill": {
     "duration": 0.103516,
     "end_time": "2021-07-18T14:07:01.084651",
     "exception": false,
     "start_time": "2021-07-18T14:07:00.981135",
     "status": "completed"
    },
    "tags": []
   },
   "outputs": [
    {
     "name": "stdout",
     "output_type": "stream",
     "text": [
      "Two dimensional array b= \n",
      " [[1 2 3]\n",
      " [4 7 6]]\n"
     ]
    }
   ],
   "source": [
    "# Creating Two Dimensional array \n",
    "import numpy as np\n",
    "\n",
    "b=np.array([[1,2,3],[4,7,6]])\n",
    "print(\"Two dimensional array b= \\n\",b)"
   ]
  },
  {
   "cell_type": "markdown",
   "metadata": {
    "papermill": {
     "duration": 0.091046,
     "end_time": "2021-07-18T14:07:01.267012",
     "exception": false,
     "start_time": "2021-07-18T14:07:01.175966",
     "status": "completed"
    },
    "tags": []
   },
   "source": [
    "**The features of ndarray are as follows :**\n",
    "\n",
    "* **ndarray.ndim** : the dimension number of the array. It's called rank in Python.\n",
    "* **ndarray.shape** : the dimension of the array. It's a series of numbers whose length is determined by the dimension （ndim） of the array. \n",
    "    For example, the shape of a one-dimensional array with length n is n. And the shape of an array with n rows and m columns is n,m.\n",
    "* **ndarray.size** : the number of all elements in the array.\n",
    "* **ndarray.dtype** : the type of the element in the array, such as numpy.int32, numpy.int16, or numpy.float64.\n",
    "* **ndarray.itemsize** : the size of each element in the array, in bytes.\n",
    "\n",
    "\n",
    "**Let's take a look at the code example**"
   ]
  },
  {
   "cell_type": "code",
   "execution_count": 6,
   "metadata": {
    "execution": {
     "iopub.execute_input": "2021-07-18T14:07:01.450331Z",
     "iopub.status.busy": "2021-07-18T14:07:01.449656Z",
     "iopub.status.idle": "2021-07-18T14:07:01.457616Z",
     "shell.execute_reply": "2021-07-18T14:07:01.456889Z",
     "shell.execute_reply.started": "2021-07-15T02:00:14.640721Z"
    },
    "papermill": {
     "duration": 0.101155,
     "end_time": "2021-07-18T14:07:01.457773",
     "exception": false,
     "start_time": "2021-07-18T14:07:01.356618",
     "status": "completed"
    },
    "tags": []
   },
   "outputs": [
    {
     "name": "stdout",
     "output_type": "stream",
     "text": [
      "[[ 1  2  3  4]\n",
      " [ 4  5  6  7]\n",
      " [ 9 10 11 23]]\n",
      "The dimension of array arr is  2\n"
     ]
    }
   ],
   "source": [
    "# Finding the dimensions of the Array\n",
    "import numpy as np \n",
    "\n",
    "arr = np.array([[1, 2, 3, 4], [4, 5, 6, 7], [9, 10, 11, 23]]) \n",
    "print(arr)\n",
    "c=arr.ndim  \n",
    "print(\"The dimension of array arr is \",c)"
   ]
  },
  {
   "cell_type": "code",
   "execution_count": 7,
   "metadata": {
    "execution": {
     "iopub.execute_input": "2021-07-18T14:07:01.649122Z",
     "iopub.status.busy": "2021-07-18T14:07:01.648088Z",
     "iopub.status.idle": "2021-07-18T14:07:01.653102Z",
     "shell.execute_reply": "2021-07-18T14:07:01.653784Z",
     "shell.execute_reply.started": "2021-07-15T02:00:17.680699Z"
    },
    "papermill": {
     "duration": 0.103541,
     "end_time": "2021-07-18T14:07:01.654039",
     "exception": false,
     "start_time": "2021-07-18T14:07:01.550498",
     "status": "completed"
    },
    "tags": []
   },
   "outputs": [
    {
     "name": "stdout",
     "output_type": "stream",
     "text": [
      "Each item contains 8 bytes\n"
     ]
    }
   ],
   "source": [
    "# Finding the size of each array element\n",
    "import numpy as np  \n",
    "\n",
    "c = np.array([[1,2,3 ,85 ,78]])  \n",
    "print(\"Each item contains\",c.itemsize,\"bytes\")  "
   ]
  },
  {
   "cell_type": "code",
   "execution_count": 8,
   "metadata": {
    "execution": {
     "iopub.execute_input": "2021-07-18T14:07:01.846496Z",
     "iopub.status.busy": "2021-07-18T14:07:01.845824Z",
     "iopub.status.idle": "2021-07-18T14:07:01.850436Z",
     "shell.execute_reply": "2021-07-18T14:07:01.849773Z",
     "shell.execute_reply.started": "2021-07-15T02:00:20.870946Z"
    },
    "papermill": {
     "duration": 0.103549,
     "end_time": "2021-07-18T14:07:01.850587",
     "exception": false,
     "start_time": "2021-07-18T14:07:01.747038",
     "status": "completed"
    },
    "tags": []
   },
   "outputs": [
    {
     "name": "stdout",
     "output_type": "stream",
     "text": [
      "Each item is of the type int64\n"
     ]
    }
   ],
   "source": [
    "# Finding the data type of each array item\n",
    "import numpy as np  \n",
    "\n",
    "c = np.array([[1,2,3]])  \n",
    "print(\"Each item is of the type\",c.dtype)  "
   ]
  },
  {
   "cell_type": "code",
   "execution_count": 9,
   "metadata": {
    "execution": {
     "iopub.execute_input": "2021-07-18T14:07:02.041031Z",
     "iopub.status.busy": "2021-07-18T14:07:02.040047Z",
     "iopub.status.idle": "2021-07-18T14:07:02.048681Z",
     "shell.execute_reply": "2021-07-18T14:07:02.047940Z",
     "shell.execute_reply.started": "2021-07-15T02:00:23.530799Z"
    },
    "papermill": {
     "duration": 0.106355,
     "end_time": "2021-07-18T14:07:02.048851",
     "exception": false,
     "start_time": "2021-07-18T14:07:01.942496",
     "status": "completed"
    },
    "tags": []
   },
   "outputs": [
    {
     "name": "stdout",
     "output_type": "stream",
     "text": [
      "Array Size: 7\n",
      "Shape: (1, 7)\n"
     ]
    }
   ],
   "source": [
    "# Finding the shape and size of the array\n",
    "import numpy as np  \n",
    "\n",
    "c = np.array([[1,2,3,4,5,6,7]])  \n",
    "print(\"Array Size:\",c.size)  \n",
    "print(\"Shape:\",c.shape)  "
   ]
  },
  {
   "cell_type": "markdown",
   "metadata": {
    "papermill": {
     "duration": 0.092979,
     "end_time": "2021-07-18T14:07:02.235621",
     "exception": false,
     "start_time": "2021-07-18T14:07:02.142642",
     "status": "completed"
    },
    "tags": []
   },
   "source": [
    "# NumPy dtype\n",
    "\n",
    "A data type object describes interpretation of fixed block of memory corresponding to an array, depending on the following aspects −\n",
    "\n",
    "* Type of data (integer, float or Python object)\n",
    "\n",
    "* Size of data\n",
    "\n",
    "* Byte order (little-endian or big-endian)\n",
    "\n",
    "* In case of structured type, the names of fields, data type of each field and part of the memory block taken by each field.\n",
    "\n",
    "* If data type is a subarray, its shape and data type\n",
    "\n",
    "The byte order is decided by prefixing '<' or '>' to data type. '<' means that encoding is little-endian (least significant is stored in smallest address). '>' means that encoding is big-endian (most significant byte is stored in smallest address).\n",
    "\n",
    "\n",
    "*We can create a dtype object by using the following syntax.*\n",
    "\n",
    "**numpy.dtype(object, align, copy)**\n",
    "\n",
    "\n",
    "\n",
    "\n",
    "**Data Types & Description**\n",
    " \n",
    "1\t**bool_ :** Boolean (True or False) stored as a byte\n",
    "\n",
    "2\t**int_ :** Default integer type (same as C long; normally either int64 or int32)\n",
    "\n",
    "3\t**intc :** Identical to C int (normally int32 or int64)\n",
    "\n",
    "4\t**intp :** Integer used for indexing (same as C ssize_t; normally either int32 or int64)\n",
    "\n",
    "5\t**int8 :** Byte (-128 to 127)\n",
    "\n",
    "6\t**int16 :** Integer (-32768 to 32767)\n",
    "\n",
    "7\t**int32 :** Integer (-2147483648 to 2147483647)\n",
    "\n",
    "8\t**int64 :** Integer (-9223372036854775808 to 9223372036854775807)\n",
    "\n",
    "9\t**uint8 :** Unsigned integer (0 to 255)\n",
    "\n",
    "10\t**uint16 :** Unsigned integer (0 to 65535)\n",
    "\n",
    "11\t**uint32 :** Unsigned integer (0 to 4294967295)\n",
    "\n",
    "12\t**uint64 :** Unsigned integer (0 to 18446744073709551615)\n",
    "\n",
    "13\t**float_ :** Shorthand for float64\n",
    "\n",
    "14\t**float16 :** Half precision float: sign bit, 5 bits exponent, 10 bits mantissa\n",
    "\n",
    "15\t**float32 :** Single precision float: sign bit, 8 bits exponent, 23 bits mantissa\n",
    "\n",
    "16\t**float64 :** Double precision float: sign bit, 11 bits exponent, 52 bits mantissa\n",
    "\n",
    "17\t**complex_ :** Shorthand for complex128\n",
    "\n",
    "18\t**complex64 :** Complex number, represented by two 32-bit floats (real and imaginary components)\n",
    "\n",
    "19\t**complex128 :** Complex number, represented by two 64-bit floats (real and imaginary components)\n"
   ]
  },
  {
   "cell_type": "code",
   "execution_count": 10,
   "metadata": {
    "execution": {
     "iopub.execute_input": "2021-07-18T14:07:02.426517Z",
     "iopub.status.busy": "2021-07-18T14:07:02.425477Z",
     "iopub.status.idle": "2021-07-18T14:07:02.429658Z",
     "shell.execute_reply": "2021-07-18T14:07:02.430435Z",
     "shell.execute_reply.started": "2021-07-15T02:00:29.040681Z"
    },
    "papermill": {
     "duration": 0.102732,
     "end_time": "2021-07-18T14:07:02.430708",
     "exception": false,
     "start_time": "2021-07-18T14:07:02.327976",
     "status": "completed"
    },
    "tags": []
   },
   "outputs": [
    {
     "name": "stdout",
     "output_type": "stream",
     "text": [
      "int32\n"
     ]
    }
   ],
   "source": [
    "# using array-scalar type \n",
    "import numpy as np \n",
    "\n",
    "d= np.dtype(np.int32) \n",
    "print(d)"
   ]
  },
  {
   "cell_type": "code",
   "execution_count": 11,
   "metadata": {
    "execution": {
     "iopub.execute_input": "2021-07-18T14:07:02.622469Z",
     "iopub.status.busy": "2021-07-18T14:07:02.621494Z",
     "iopub.status.idle": "2021-07-18T14:07:02.628556Z",
     "shell.execute_reply": "2021-07-18T14:07:02.627895Z",
     "shell.execute_reply.started": "2021-07-15T02:00:32.111059Z"
    },
    "papermill": {
     "duration": 0.102598,
     "end_time": "2021-07-18T14:07:02.628747",
     "exception": false,
     "start_time": "2021-07-18T14:07:02.526149",
     "status": "completed"
    },
    "tags": []
   },
   "outputs": [
    {
     "name": "stdout",
     "output_type": "stream",
     "text": [
      "int32\n"
     ]
    }
   ],
   "source": [
    "# Note : int8, int16, int32, int64 can be replaced by equivalent string 'i1', 'i2','i4', etc. \n",
    "import numpy as np \n",
    "\n",
    "d = np.dtype('i4')\n",
    "print (d) \n"
   ]
  },
  {
   "cell_type": "code",
   "execution_count": 12,
   "metadata": {
    "execution": {
     "iopub.execute_input": "2021-07-18T14:07:02.819670Z",
     "iopub.status.busy": "2021-07-18T14:07:02.818968Z",
     "iopub.status.idle": "2021-07-18T14:07:02.822922Z",
     "shell.execute_reply": "2021-07-18T14:07:02.822416Z",
     "shell.execute_reply.started": "2021-07-15T02:00:34.940433Z"
    },
    "papermill": {
     "duration": 0.10137,
     "end_time": "2021-07-18T14:07:02.823073",
     "exception": false,
     "start_time": "2021-07-18T14:07:02.721703",
     "status": "completed"
    },
    "tags": []
   },
   "outputs": [
    {
     "name": "stdout",
     "output_type": "stream",
     "text": [
      ">i4\n"
     ]
    }
   ],
   "source": [
    "# using endian notation \n",
    "import numpy as np \n",
    "\n",
    "d = np.dtype('>i4') \n",
    "print(d)"
   ]
  },
  {
   "cell_type": "code",
   "execution_count": 13,
   "metadata": {
    "execution": {
     "iopub.execute_input": "2021-07-18T14:07:03.018904Z",
     "iopub.status.busy": "2021-07-18T14:07:03.018099Z",
     "iopub.status.idle": "2021-07-18T14:07:03.022793Z",
     "shell.execute_reply": "2021-07-18T14:07:03.022021Z",
     "shell.execute_reply.started": "2021-07-15T02:00:37.881204Z"
    },
    "papermill": {
     "duration": 0.1048,
     "end_time": "2021-07-18T14:07:03.023014",
     "exception": false,
     "start_time": "2021-07-18T14:07:02.918214",
     "status": "completed"
    },
    "tags": []
   },
   "outputs": [
    {
     "name": "stdout",
     "output_type": "stream",
     "text": [
      "[('age', 'i1')]\n"
     ]
    }
   ],
   "source": [
    "# first create structured data type \n",
    "import numpy as np \n",
    "\n",
    "d = np.dtype([('age',np.int8)]) \n",
    "print(d) "
   ]
  },
  {
   "cell_type": "markdown",
   "metadata": {
    "papermill": {
     "duration": 0.094375,
     "end_time": "2021-07-18T14:07:03.285501",
     "exception": false,
     "start_time": "2021-07-18T14:07:03.191126",
     "status": "completed"
    },
    "tags": []
   },
   "source": [
    "The following examples show the use of structured data type. Here, the field name and the corresponding scalar data type is to be declared."
   ]
  },
  {
   "cell_type": "code",
   "execution_count": 14,
   "metadata": {
    "execution": {
     "iopub.execute_input": "2021-07-18T14:07:03.482593Z",
     "iopub.status.busy": "2021-07-18T14:07:03.481671Z",
     "iopub.status.idle": "2021-07-18T14:07:03.486592Z",
     "shell.execute_reply": "2021-07-18T14:07:03.487681Z",
     "shell.execute_reply.started": "2021-07-15T02:00:41.571341Z"
    },
    "papermill": {
     "duration": 0.108917,
     "end_time": "2021-07-18T14:07:03.487963",
     "exception": false,
     "start_time": "2021-07-18T14:07:03.379046",
     "status": "completed"
    },
    "tags": []
   },
   "outputs": [
    {
     "name": "stdout",
     "output_type": "stream",
     "text": [
      "[(10,) (20,) (30,)]\n"
     ]
    }
   ],
   "source": [
    "# now apply it to ndarray object \n",
    "import numpy as np \n",
    "\n",
    "dt = np.dtype([('age',np.int8)]) \n",
    "a = np.array([(10,),(20,),(30,)], dtype = dt) \n",
    "print(a)"
   ]
  },
  {
   "cell_type": "code",
   "execution_count": 15,
   "metadata": {
    "execution": {
     "iopub.execute_input": "2021-07-18T14:07:03.684329Z",
     "iopub.status.busy": "2021-07-18T14:07:03.683465Z",
     "iopub.status.idle": "2021-07-18T14:07:03.688407Z",
     "shell.execute_reply": "2021-07-18T14:07:03.687887Z",
     "shell.execute_reply.started": "2021-07-15T02:00:44.581565Z"
    },
    "papermill": {
     "duration": 0.105055,
     "end_time": "2021-07-18T14:07:03.688560",
     "exception": false,
     "start_time": "2021-07-18T14:07:03.583505",
     "status": "completed"
    },
    "tags": []
   },
   "outputs": [
    {
     "name": "stdout",
     "output_type": "stream",
     "text": [
      "[10 20 30]\n"
     ]
    }
   ],
   "source": [
    "# file name can be used to access content of age column \n",
    "import numpy as np \n",
    "\n",
    "dt = np.dtype([('age',np.int8)]) \n",
    "a = np.array([(10,),(20,),(30,)], dtype = dt) \n",
    "print(a['age'])\n"
   ]
  },
  {
   "cell_type": "markdown",
   "metadata": {
    "papermill": {
     "duration": 0.095482,
     "end_time": "2021-07-18T14:07:03.878586",
     "exception": false,
     "start_time": "2021-07-18T14:07:03.783104",
     "status": "completed"
    },
    "tags": []
   },
   "source": [
    "The following examples define a structured data type called student with a string field 'name', an integer field 'age' and a float field 'marks'. This dtype is applied to ndarray object."
   ]
  },
  {
   "cell_type": "code",
   "execution_count": 16,
   "metadata": {
    "execution": {
     "iopub.execute_input": "2021-07-18T14:07:04.078525Z",
     "iopub.status.busy": "2021-07-18T14:07:04.077829Z",
     "iopub.status.idle": "2021-07-18T14:07:04.080657Z",
     "shell.execute_reply": "2021-07-18T14:07:04.081248Z",
     "shell.execute_reply.started": "2021-07-15T02:00:47.681211Z"
    },
    "papermill": {
     "duration": 0.106209,
     "end_time": "2021-07-18T14:07:04.081459",
     "exception": false,
     "start_time": "2021-07-18T14:07:03.975250",
     "status": "completed"
    },
    "tags": []
   },
   "outputs": [
    {
     "name": "stdout",
     "output_type": "stream",
     "text": [
      "[('name', 'S20'), ('age', 'i1'), ('marks', '<f4')]\n"
     ]
    }
   ],
   "source": [
    "import numpy as np \n",
    "\n",
    "student = np.dtype([('name','S20'), ('age', 'i1'), ('marks', 'f4')]) \n",
    "print(student)"
   ]
  },
  {
   "cell_type": "code",
   "execution_count": 17,
   "metadata": {
    "execution": {
     "iopub.execute_input": "2021-07-18T14:07:04.279598Z",
     "iopub.status.busy": "2021-07-18T14:07:04.278752Z",
     "iopub.status.idle": "2021-07-18T14:07:04.282354Z",
     "shell.execute_reply": "2021-07-18T14:07:04.282805Z",
     "shell.execute_reply.started": "2021-07-15T02:00:50.37029Z"
    },
    "papermill": {
     "duration": 0.107495,
     "end_time": "2021-07-18T14:07:04.282984",
     "exception": false,
     "start_time": "2021-07-18T14:07:04.175489",
     "status": "completed"
    },
    "tags": []
   },
   "outputs": [
    {
     "name": "stdout",
     "output_type": "stream",
     "text": [
      "[(b'abc', 21, 50.) (b'xyz', 18, 75.)]\n"
     ]
    }
   ],
   "source": [
    "import numpy as np \n",
    "\n",
    "student = np.dtype([('name','S20'), ('age', 'i1'), ('marks', 'f4')]) \n",
    "a = np.array([('abc', 21, 50),('xyz', 18, 75)], dtype = student) \n",
    "print(a)"
   ]
  },
  {
   "cell_type": "markdown",
   "metadata": {
    "papermill": {
     "duration": 0.094124,
     "end_time": "2021-07-18T14:07:04.471735",
     "exception": false,
     "start_time": "2021-07-18T14:07:04.377611",
     "status": "completed"
    },
    "tags": []
   },
   "source": [
    "# Numpy Array Creation\n",
    "\n",
    "The ndarray object can be constructed by using the following routines.\n",
    "\n",
    "* **Numpy.empty**\n",
    "\n",
    " As the name specifies, The empty routine is used to create an uninitialized array of specified shape and data type.\n",
    "\n",
    " *The syntax is given below.*\n",
    "\n",
    " **numpy.empty(shape, dtype = float, order = 'C')**"
   ]
  },
  {
   "cell_type": "code",
   "execution_count": 18,
   "metadata": {
    "execution": {
     "iopub.execute_input": "2021-07-18T14:07:04.668379Z",
     "iopub.status.busy": "2021-07-18T14:07:04.667598Z",
     "iopub.status.idle": "2021-07-18T14:07:04.672604Z",
     "shell.execute_reply": "2021-07-18T14:07:04.673635Z",
     "shell.execute_reply.started": "2021-07-15T02:00:54.790652Z"
    },
    "papermill": {
     "duration": 0.106289,
     "end_time": "2021-07-18T14:07:04.674035",
     "exception": false,
     "start_time": "2021-07-18T14:07:04.567746",
     "status": "completed"
    },
    "tags": []
   },
   "outputs": [
    {
     "name": "stdout",
     "output_type": "stream",
     "text": [
      "[[94159916307904              0]\n",
      " [             0              0]\n",
      " [             0              0]]\n"
     ]
    }
   ],
   "source": [
    "import numpy as np  \n",
    "\n",
    "arr = np.empty((3,2), dtype = int)  \n",
    "print(arr)  "
   ]
  },
  {
   "cell_type": "markdown",
   "metadata": {
    "papermill": {
     "duration": 0.094498,
     "end_time": "2021-07-18T14:07:04.865095",
     "exception": false,
     "start_time": "2021-07-18T14:07:04.770597",
     "status": "completed"
    },
    "tags": []
   },
   "source": [
    "* **NumPy.Zeros**\n",
    "\n",
    " This routine is used to create the numpy array with the specified shape where each numpy array item is initialized to 0.\n",
    "\n",
    " *The syntax is given below.*\n",
    "\n",
    " **numpy.zeros(shape, dtype = float, order = 'C')**  "
   ]
  },
  {
   "cell_type": "code",
   "execution_count": 19,
   "metadata": {
    "execution": {
     "iopub.execute_input": "2021-07-18T14:07:05.062953Z",
     "iopub.status.busy": "2021-07-18T14:07:05.062077Z",
     "iopub.status.idle": "2021-07-18T14:07:05.067140Z",
     "shell.execute_reply": "2021-07-18T14:07:05.066231Z",
     "shell.execute_reply.started": "2021-07-15T02:00:58.191755Z"
    },
    "papermill": {
     "duration": 0.105355,
     "end_time": "2021-07-18T14:07:05.067379",
     "exception": false,
     "start_time": "2021-07-18T14:07:04.962024",
     "status": "completed"
    },
    "tags": []
   },
   "outputs": [
    {
     "name": "stdout",
     "output_type": "stream",
     "text": [
      "[[0 0]\n",
      " [0 0]\n",
      " [0 0]]\n"
     ]
    }
   ],
   "source": [
    "import numpy as np  \n",
    "\n",
    "arr = np.zeros((3,2), dtype = int)  \n",
    "print(arr)  "
   ]
  },
  {
   "cell_type": "markdown",
   "metadata": {
    "papermill": {
     "duration": 0.097089,
     "end_time": "2021-07-18T14:07:05.262518",
     "exception": false,
     "start_time": "2021-07-18T14:07:05.165429",
     "status": "completed"
    },
    "tags": []
   },
   "source": [
    "* **NumPy.ones**\n",
    "\n",
    " This routine is used to create the numpy array with the specified shape where each numpy array item is initialized to 1.\n",
    "\n",
    " *The syntax to use this module is given below.*\n",
    "\n",
    " **numpy.ones(shape, dtype = none, order = 'C')**  "
   ]
  },
  {
   "cell_type": "code",
   "execution_count": 20,
   "metadata": {
    "execution": {
     "iopub.execute_input": "2021-07-18T14:07:05.460056Z",
     "iopub.status.busy": "2021-07-18T14:07:05.459347Z",
     "iopub.status.idle": "2021-07-18T14:07:05.462221Z",
     "shell.execute_reply": "2021-07-18T14:07:05.462913Z",
     "shell.execute_reply.started": "2021-07-15T02:01:06.001256Z"
    },
    "papermill": {
     "duration": 0.104317,
     "end_time": "2021-07-18T14:07:05.463158",
     "exception": false,
     "start_time": "2021-07-18T14:07:05.358841",
     "status": "completed"
    },
    "tags": []
   },
   "outputs": [
    {
     "name": "stdout",
     "output_type": "stream",
     "text": [
      "[[1 1]\n",
      " [1 1]\n",
      " [1 1]]\n"
     ]
    }
   ],
   "source": [
    "import numpy as np  \n",
    "\n",
    "arr = np.ones((3,2), dtype = int)  \n",
    "print(arr)  "
   ]
  },
  {
   "cell_type": "markdown",
   "metadata": {
    "papermill": {
     "duration": 0.095917,
     "end_time": "2021-07-18T14:07:05.656528",
     "exception": false,
     "start_time": "2021-07-18T14:07:05.560611",
     "status": "completed"
    },
    "tags": []
   },
   "source": [
    "# Numpy array from existing data\n",
    "\n",
    "NumPy provides us the way to create an array by using the existing data.\n",
    "\n",
    "* **Numpy.asarray**\n",
    "\n",
    " This routine is used to create an array by using the existing data in the form of lists, or tuples. This routine is useful in the scenario where we need to convert a python sequence into the numpy array object.\n",
    "\n",
    " *The syntax to use the asarray() routine is given below.*\n",
    "\n",
    " **numpy.asarray(sequence,  dtype = None, order = None)**  "
   ]
  },
  {
   "cell_type": "code",
   "execution_count": 21,
   "metadata": {
    "execution": {
     "iopub.execute_input": "2021-07-18T14:07:05.851665Z",
     "iopub.status.busy": "2021-07-18T14:07:05.850865Z",
     "iopub.status.idle": "2021-07-18T14:07:05.858877Z",
     "shell.execute_reply": "2021-07-18T14:07:05.858064Z",
     "shell.execute_reply.started": "2021-07-15T02:01:09.88029Z"
    },
    "papermill": {
     "duration": 0.106609,
     "end_time": "2021-07-18T14:07:05.859086",
     "exception": false,
     "start_time": "2021-07-18T14:07:05.752477",
     "status": "completed"
    },
    "tags": []
   },
   "outputs": [
    {
     "name": "stdout",
     "output_type": "stream",
     "text": [
      "<class 'numpy.ndarray'>\n",
      "[1 2 3 4 5 6 7]\n"
     ]
    }
   ],
   "source": [
    "# Creating numpy array using the list\n",
    "import numpy as np \n",
    "\n",
    "l=[1,2,3,4,5,6,7]  \n",
    "a = np.asarray(l);  \n",
    "print(type(a))  \n",
    "print(a)  "
   ]
  },
  {
   "cell_type": "code",
   "execution_count": 22,
   "metadata": {
    "execution": {
     "iopub.execute_input": "2021-07-18T14:07:06.058232Z",
     "iopub.status.busy": "2021-07-18T14:07:06.057255Z",
     "iopub.status.idle": "2021-07-18T14:07:06.066202Z",
     "shell.execute_reply": "2021-07-18T14:07:06.065550Z",
     "shell.execute_reply.started": "2021-07-15T02:01:13.15071Z"
    },
    "papermill": {
     "duration": 0.108863,
     "end_time": "2021-07-18T14:07:06.066387",
     "exception": false,
     "start_time": "2021-07-18T14:07:05.957524",
     "status": "completed"
    },
    "tags": []
   },
   "outputs": [
    {
     "name": "stdout",
     "output_type": "stream",
     "text": [
      "<class 'numpy.ndarray'>\n",
      "[1 2 3 4 5 6 7]\n"
     ]
    }
   ],
   "source": [
    "# Creating a numpy array using Tuple\n",
    "import numpy as np \n",
    "\n",
    "l=(1,2,3,4,5,6,7)     \n",
    "a = np.asarray(l);  \n",
    "print(type(a))  \n",
    "print(a)  "
   ]
  },
  {
   "cell_type": "code",
   "execution_count": 23,
   "metadata": {
    "execution": {
     "iopub.execute_input": "2021-07-18T14:07:06.267992Z",
     "iopub.status.busy": "2021-07-18T14:07:06.266954Z",
     "iopub.status.idle": "2021-07-18T14:07:06.425220Z",
     "shell.execute_reply": "2021-07-18T14:07:06.424700Z",
     "shell.execute_reply.started": "2021-07-15T02:01:16.210738Z"
    },
    "papermill": {
     "duration": 0.261532,
     "end_time": "2021-07-18T14:07:06.425389",
     "exception": false,
     "start_time": "2021-07-18T14:07:06.163857",
     "status": "completed"
    },
    "tags": []
   },
   "outputs": [
    {
     "name": "stdout",
     "output_type": "stream",
     "text": [
      "<class 'numpy.ndarray'>\n",
      "[list([1, 2, 3, 4, 5, 6, 7]) list([8, 9])]\n"
     ]
    },
    {
     "name": "stderr",
     "output_type": "stream",
     "text": [
      "/opt/conda/lib/python3.7/site-packages/numpy/core/_asarray.py:83: VisibleDeprecationWarning: Creating an ndarray from ragged nested sequences (which is a list-or-tuple of lists-or-tuples-or ndarrays with different lengths or shapes) is deprecated. If you meant to do this, you must specify 'dtype=object' when creating the ndarray\n",
      "  return array(a, dtype, copy=False, order=order)\n"
     ]
    }
   ],
   "source": [
    "# Creating a numpy array using more than one list\n",
    "import numpy as np  \n",
    "\n",
    "l=[[1,2,3,4,5,6,7],[8,9]]  \n",
    "a = np.asarray(l);  \n",
    "print(type(a))  \n",
    "print(a)  "
   ]
  },
  {
   "cell_type": "code",
   "execution_count": 24,
   "metadata": {
    "execution": {
     "iopub.execute_input": "2021-07-18T14:07:06.624957Z",
     "iopub.status.busy": "2021-07-18T14:07:06.624163Z",
     "iopub.status.idle": "2021-07-18T14:07:06.628371Z",
     "shell.execute_reply": "2021-07-18T14:07:06.627822Z",
     "shell.execute_reply.started": "2021-07-15T02:02:23.375546Z"
    },
    "papermill": {
     "duration": 0.106934,
     "end_time": "2021-07-18T14:07:06.628524",
     "exception": false,
     "start_time": "2021-07-18T14:07:06.521590",
     "status": "completed"
    },
    "tags": []
   },
   "outputs": [
    {
     "name": "stdout",
     "output_type": "stream",
     "text": [
      "[(1, 2, 3) (4, 5)]\n"
     ]
    }
   ],
   "source": [
    "# ndarray from list of tuples \n",
    "import numpy as np \n",
    "\n",
    "x = [(1,2,3),(4,5)] \n",
    "a = np.asarray(x) \n",
    "print(a) "
   ]
  },
  {
   "cell_type": "markdown",
   "metadata": {
    "papermill": {
     "duration": 0.096239,
     "end_time": "2021-07-18T14:07:06.821662",
     "exception": false,
     "start_time": "2021-07-18T14:07:06.725423",
     "status": "completed"
    },
    "tags": []
   },
   "source": [
    "* **Numpy.frombuffer**\n",
    "\n",
    " This function is used to create an array by using the specified buffer. \n",
    "\n",
    " *The syntax to use this buffer is given below.*\n",
    "\n",
    " **numpy.frombuffer(buffer, dtype = float, count = -1, offset = 0)**  "
   ]
  },
  {
   "cell_type": "code",
   "execution_count": 25,
   "metadata": {
    "execution": {
     "iopub.execute_input": "2021-07-18T14:07:07.023178Z",
     "iopub.status.busy": "2021-07-18T14:07:07.022451Z",
     "iopub.status.idle": "2021-07-18T14:07:07.026370Z",
     "shell.execute_reply": "2021-07-18T14:07:07.025703Z",
     "shell.execute_reply.started": "2021-07-15T02:02:27.440558Z"
    },
    "papermill": {
     "duration": 0.107423,
     "end_time": "2021-07-18T14:07:07.026525",
     "exception": false,
     "start_time": "2021-07-18T14:07:06.919102",
     "status": "completed"
    },
    "tags": []
   },
   "outputs": [
    {
     "name": "stdout",
     "output_type": "stream",
     "text": [
      "<class 'bytes'>\n",
      "[b'D' b'e' b't' b'a' b'i' b'l' b'e' b'd' b' ' b'N' b'u' b'm' b'p' b'y'\n",
      " b' ' b'T' b'u' b't' b'o' b'r' b'i' b'a' b'l' b' ']\n",
      "<class 'numpy.ndarray'>\n"
     ]
    }
   ],
   "source": [
    "import numpy as np  \n",
    "\n",
    "l = b'Detailed Numpy Tutorial '  \n",
    "print(type(l))  \n",
    "a = np.frombuffer(l, dtype = \"S1\")  \n",
    "print(a)  \n",
    "print(type(a))  "
   ]
  },
  {
   "cell_type": "markdown",
   "metadata": {
    "papermill": {
     "duration": 0.097128,
     "end_time": "2021-07-18T14:07:07.224953",
     "exception": false,
     "start_time": "2021-07-18T14:07:07.127825",
     "status": "completed"
    },
    "tags": []
   },
   "source": [
    "* **Numpy.fromiter**\n",
    "\n",
    " This routine is used to create a ndarray by using an iterable object. It returns a one-dimensional ndarray object.\n",
    "\n",
    " *The syntax is given below.*\n",
    "\n",
    " **numpy.fromiter(iterable, dtype, count = - 1)**  "
   ]
  },
  {
   "cell_type": "code",
   "execution_count": 26,
   "metadata": {
    "execution": {
     "iopub.execute_input": "2021-07-18T14:07:07.430923Z",
     "iopub.status.busy": "2021-07-18T14:07:07.429976Z",
     "iopub.status.idle": "2021-07-18T14:07:07.434507Z",
     "shell.execute_reply": "2021-07-18T14:07:07.433487Z",
     "shell.execute_reply.started": "2021-07-15T02:02:31.455046Z"
    },
    "papermill": {
     "duration": 0.109088,
     "end_time": "2021-07-18T14:07:07.434737",
     "exception": false,
     "start_time": "2021-07-18T14:07:07.325649",
     "status": "completed"
    },
    "tags": []
   },
   "outputs": [
    {
     "name": "stdout",
     "output_type": "stream",
     "text": [
      "[0. 2. 4. 6.]\n",
      "<class 'numpy.ndarray'>\n"
     ]
    }
   ],
   "source": [
    "import numpy as np \n",
    "\n",
    "list = [0,2,4,6]  \n",
    "a = iter(list)  \n",
    "x = np.fromiter(a, dtype = float)  \n",
    "print(x)  \n",
    "print(type(x))  "
   ]
  },
  {
   "cell_type": "code",
   "execution_count": 27,
   "metadata": {
    "execution": {
     "iopub.execute_input": "2021-07-18T14:07:07.646096Z",
     "iopub.status.busy": "2021-07-18T14:07:07.645433Z",
     "iopub.status.idle": "2021-07-18T14:07:07.648132Z",
     "shell.execute_reply": "2021-07-18T14:07:07.648796Z",
     "shell.execute_reply.started": "2021-07-15T02:02:37.315834Z"
    },
    "papermill": {
     "duration": 0.112217,
     "end_time": "2021-07-18T14:07:07.648989",
     "exception": false,
     "start_time": "2021-07-18T14:07:07.536772",
     "status": "completed"
    },
    "tags": []
   },
   "outputs": [
    {
     "name": "stdout",
     "output_type": "stream",
     "text": [
      "[0. 1. 2. 3. 4.]\n"
     ]
    }
   ],
   "source": [
    "# obtain iterator object from list \n",
    "import numpy as np \n",
    "\n",
    "list = range(5) \n",
    "it = iter(list)  \n",
    "\n",
    "# use iterator to create ndarray \n",
    "x = np.fromiter(it, dtype = float) \n",
    "print(x)"
   ]
  },
  {
   "cell_type": "markdown",
   "metadata": {
    "papermill": {
     "duration": 0.097466,
     "end_time": "2021-07-18T14:07:07.844625",
     "exception": false,
     "start_time": "2021-07-18T14:07:07.747159",
     "status": "completed"
    },
    "tags": []
   },
   "source": [
    "# Numpy Arrays within the numerical range\n",
    "\n",
    "This section of the tutorial illustrates how the numpy arrays can be created using some given specified range.\n",
    "\n",
    "* **Numpy.arrange**\n",
    "\n",
    " It creates an array by using the evenly spaced values over the given interval. \n",
    "\n",
    " *The syntax to use the function is given below.*\n",
    "\n",
    " **numpy.arrange(start, stop, step, dtype)**\n"
   ]
  },
  {
   "cell_type": "code",
   "execution_count": 28,
   "metadata": {
    "execution": {
     "iopub.execute_input": "2021-07-18T14:07:08.048968Z",
     "iopub.status.busy": "2021-07-18T14:07:08.048246Z",
     "iopub.status.idle": "2021-07-18T14:07:08.052184Z",
     "shell.execute_reply": "2021-07-18T14:07:08.051610Z",
     "shell.execute_reply.started": "2021-07-15T02:02:41.330795Z"
    },
    "papermill": {
     "duration": 0.108698,
     "end_time": "2021-07-18T14:07:08.052353",
     "exception": false,
     "start_time": "2021-07-18T14:07:07.943655",
     "status": "completed"
    },
    "tags": []
   },
   "outputs": [
    {
     "name": "stdout",
     "output_type": "stream",
     "text": [
      "[0 1 2 3 4]\n"
     ]
    }
   ],
   "source": [
    "import numpy as np \n",
    "\n",
    "x = np.arange(5) \n",
    "print(x)"
   ]
  },
  {
   "cell_type": "code",
   "execution_count": 29,
   "metadata": {
    "execution": {
     "iopub.execute_input": "2021-07-18T14:07:08.258861Z",
     "iopub.status.busy": "2021-07-18T14:07:08.258168Z",
     "iopub.status.idle": "2021-07-18T14:07:08.261413Z",
     "shell.execute_reply": "2021-07-18T14:07:08.260776Z",
     "shell.execute_reply.started": "2021-07-15T02:02:44.126588Z"
    },
    "papermill": {
     "duration": 0.110081,
     "end_time": "2021-07-18T14:07:08.261555",
     "exception": false,
     "start_time": "2021-07-18T14:07:08.151474",
     "status": "completed"
    },
    "tags": []
   },
   "outputs": [
    {
     "name": "stdout",
     "output_type": "stream",
     "text": [
      "[0. 2. 4. 6. 8.]\n"
     ]
    }
   ],
   "source": [
    "# start and stop parameters set \n",
    "import numpy as np \n",
    "\n",
    "arr = np.arange(0,10,2,float)  \n",
    "print(arr)  "
   ]
  },
  {
   "cell_type": "code",
   "execution_count": 30,
   "metadata": {
    "execution": {
     "iopub.execute_input": "2021-07-18T14:07:08.464741Z",
     "iopub.status.busy": "2021-07-18T14:07:08.463772Z",
     "iopub.status.idle": "2021-07-18T14:07:08.468145Z",
     "shell.execute_reply": "2021-07-18T14:07:08.467591Z",
     "shell.execute_reply.started": "2021-07-15T02:02:47.776109Z"
    },
    "papermill": {
     "duration": 0.109122,
     "end_time": "2021-07-18T14:07:08.468307",
     "exception": false,
     "start_time": "2021-07-18T14:07:08.359185",
     "status": "completed"
    },
    "tags": []
   },
   "outputs": [
    {
     "name": "stdout",
     "output_type": "stream",
     "text": [
      "The array over the given range is  [10 15 20 25 30 35 40 45 50 55 60 65 70 75 80 85 90 95]\n"
     ]
    }
   ],
   "source": [
    "import numpy as np  \n",
    "\n",
    "arr = np.arange(10,100,5,int)  \n",
    "print(\"The array over the given range is \",arr)  "
   ]
  },
  {
   "cell_type": "markdown",
   "metadata": {
    "papermill": {
     "duration": 0.101207,
     "end_time": "2021-07-18T14:07:08.670125",
     "exception": false,
     "start_time": "2021-07-18T14:07:08.568918",
     "status": "completed"
    },
    "tags": []
   },
   "source": [
    "* **NumPy.linspace**\n",
    "\n",
    " It is similar to the arrange function. However, it doesn't allow us to specify the step size in the syntax. Instead of that, it only returns evenly separated values over a specified period. The system implicitly calculates the step size.\n",
    "\n",
    " *The syntax is given below.*\n",
    "\n",
    " **numpy.linspace(start, stop, num, endpoint, retstep, dtype)**   "
   ]
  },
  {
   "cell_type": "code",
   "execution_count": 31,
   "metadata": {
    "execution": {
     "iopub.execute_input": "2021-07-18T14:07:08.879014Z",
     "iopub.status.busy": "2021-07-18T14:07:08.877943Z",
     "iopub.status.idle": "2021-07-18T14:07:08.882137Z",
     "shell.execute_reply": "2021-07-18T14:07:08.882694Z",
     "shell.execute_reply.started": "2021-07-15T02:02:50.761124Z"
    },
    "papermill": {
     "duration": 0.111797,
     "end_time": "2021-07-18T14:07:08.882897",
     "exception": false,
     "start_time": "2021-07-18T14:07:08.771100",
     "status": "completed"
    },
    "tags": []
   },
   "outputs": [
    {
     "name": "stdout",
     "output_type": "stream",
     "text": [
      "The array over the given range is  [10.  12.5 15.  17.5 20. ]\n"
     ]
    }
   ],
   "source": [
    "import numpy as np  \n",
    "\n",
    "arr = np.linspace(10, 20, 5)  \n",
    "print(\"The array over the given range is \",arr)  "
   ]
  },
  {
   "cell_type": "code",
   "execution_count": 32,
   "metadata": {
    "execution": {
     "iopub.execute_input": "2021-07-18T14:07:09.090699Z",
     "iopub.status.busy": "2021-07-18T14:07:09.090053Z",
     "iopub.status.idle": "2021-07-18T14:07:09.094301Z",
     "shell.execute_reply": "2021-07-18T14:07:09.094937Z",
     "shell.execute_reply.started": "2021-07-15T02:02:53.840876Z"
    },
    "papermill": {
     "duration": 0.111651,
     "end_time": "2021-07-18T14:07:09.095121",
     "exception": false,
     "start_time": "2021-07-18T14:07:08.983470",
     "status": "completed"
    },
    "tags": []
   },
   "outputs": [
    {
     "name": "stdout",
     "output_type": "stream",
     "text": [
      "The array over the given range is  [10. 12. 14. 16. 18.]\n"
     ]
    }
   ],
   "source": [
    "# endpoint set to false \n",
    "import numpy as np  \n",
    "\n",
    "arr = np.linspace(10, 20, 5, endpoint = False)  \n",
    "print(\"The array over the given range is \",arr) "
   ]
  },
  {
   "cell_type": "code",
   "execution_count": 33,
   "metadata": {
    "execution": {
     "iopub.execute_input": "2021-07-18T14:07:09.299951Z",
     "iopub.status.busy": "2021-07-18T14:07:09.299239Z",
     "iopub.status.idle": "2021-07-18T14:07:09.306115Z",
     "shell.execute_reply": "2021-07-18T14:07:09.306709Z",
     "shell.execute_reply.started": "2021-07-15T02:02:56.570224Z"
    },
    "papermill": {
     "duration": 0.111882,
     "end_time": "2021-07-18T14:07:09.306909",
     "exception": false,
     "start_time": "2021-07-18T14:07:09.195027",
     "status": "completed"
    },
    "tags": []
   },
   "outputs": [
    {
     "name": "stdout",
     "output_type": "stream",
     "text": [
      "(array([1.  , 1.25, 1.5 , 1.75, 2.  ]), 0.25)\n"
     ]
    }
   ],
   "source": [
    "# find retstep value \n",
    "import numpy as np \n",
    "\n",
    "x = np.linspace(1,2,5, retstep = True) \n",
    "print (x) \n",
    "# retstep here is 0.25"
   ]
  },
  {
   "cell_type": "markdown",
   "metadata": {
    "papermill": {
     "duration": 0.100763,
     "end_time": "2021-07-18T14:07:09.509307",
     "exception": false,
     "start_time": "2021-07-18T14:07:09.408544",
     "status": "completed"
    },
    "tags": []
   },
   "source": [
    "* **Numpy.logspace**\n",
    "\n",
    " It creates an array by using the numbers that are evenly separated on a log scale.\n",
    "\n",
    " *The syntax is given below.*\n",
    "\n",
    " **numpy.logspace(start, stop, num, endpoint, base, dtype)**  "
   ]
  },
  {
   "cell_type": "code",
   "execution_count": 34,
   "metadata": {
    "execution": {
     "iopub.execute_input": "2021-07-18T14:07:09.716582Z",
     "iopub.status.busy": "2021-07-18T14:07:09.715854Z",
     "iopub.status.idle": "2021-07-18T14:07:09.721972Z",
     "shell.execute_reply": "2021-07-18T14:07:09.720944Z",
     "shell.execute_reply.started": "2021-07-15T02:03:04.380855Z"
    },
    "papermill": {
     "duration": 0.11193,
     "end_time": "2021-07-18T14:07:09.722268",
     "exception": false,
     "start_time": "2021-07-18T14:07:09.610338",
     "status": "completed"
    },
    "tags": []
   },
   "outputs": [
    {
     "name": "stdout",
     "output_type": "stream",
     "text": [
      "The array over the given range is  [1.00000000e+10 3.16227766e+12 1.00000000e+15 3.16227766e+17\n",
      " 1.00000000e+20]\n"
     ]
    }
   ],
   "source": [
    "import numpy as np\n",
    "\n",
    "arr = np.logspace(10, 20, num = 5, endpoint = True)  \n",
    "print(\"The array over the given range is \",arr)"
   ]
  },
  {
   "cell_type": "code",
   "execution_count": 35,
   "metadata": {
    "execution": {
     "iopub.execute_input": "2021-07-18T14:07:09.929731Z",
     "iopub.status.busy": "2021-07-18T14:07:09.929021Z",
     "iopub.status.idle": "2021-07-18T14:07:09.936216Z",
     "shell.execute_reply": "2021-07-18T14:07:09.936900Z",
     "shell.execute_reply.started": "2021-07-15T02:03:07.940918Z"
    },
    "papermill": {
     "duration": 0.112333,
     "end_time": "2021-07-18T14:07:09.937101",
     "exception": false,
     "start_time": "2021-07-18T14:07:09.824768",
     "status": "completed"
    },
    "tags": []
   },
   "outputs": [
    {
     "name": "stdout",
     "output_type": "stream",
     "text": [
      "The array over the given range is  [1.02400000e+03 5.79261875e+03 3.27680000e+04 1.85363800e+05\n",
      " 1.04857600e+06]\n"
     ]
    }
   ],
   "source": [
    "# set base of log space to 2\n",
    "import numpy as np  \n",
    "\n",
    "arr = np.logspace(10, 20, num = 5,base = 2, endpoint = True)  \n",
    "print(\"The array over the given range is \",arr)"
   ]
  },
  {
   "cell_type": "markdown",
   "metadata": {
    "papermill": {
     "duration": 0.102084,
     "end_time": "2021-07-18T14:07:10.140613",
     "exception": false,
     "start_time": "2021-07-18T14:07:10.038529",
     "status": "completed"
    },
    "tags": []
   },
   "source": [
    "# NumPy - Indexing & Slicing\n",
    "\n",
    "As mentioned earlier, items in ndarray object follows zero-based index. Three types of indexing methods are available − field access, **basic slicing** and **advanced indexing** .\n",
    "\n",
    "**Basic slicing** is an extension of Python's basic concept of slicing to n dimensions. A Python slice object is constructed by giving start, stop, and step parameters to the built-in slice function. This slice object is passed to the array to extract a part of "
   ]
  },
  {
   "cell_type": "code",
   "execution_count": 36,
   "metadata": {
    "execution": {
     "iopub.execute_input": "2021-07-18T14:07:10.351864Z",
     "iopub.status.busy": "2021-07-18T14:07:10.351032Z",
     "iopub.status.idle": "2021-07-18T14:07:10.356269Z",
     "shell.execute_reply": "2021-07-18T14:07:10.355308Z",
     "shell.execute_reply.started": "2021-07-15T02:03:11.060709Z"
    },
    "papermill": {
     "duration": 0.113329,
     "end_time": "2021-07-18T14:07:10.356500",
     "exception": false,
     "start_time": "2021-07-18T14:07:10.243171",
     "status": "completed"
    },
    "tags": []
   },
   "outputs": [
    {
     "name": "stdout",
     "output_type": "stream",
     "text": [
      "[2 4 6]\n"
     ]
    }
   ],
   "source": [
    "import numpy as np \n",
    "\n",
    "a = np.arange(10) \n",
    "s = slice(2,7,2) \n",
    "print (a[s])\n"
   ]
  },
  {
   "cell_type": "markdown",
   "metadata": {
    "papermill": {
     "duration": 0.100934,
     "end_time": "2021-07-18T14:07:10.559543",
     "exception": false,
     "start_time": "2021-07-18T14:07:10.458609",
     "status": "completed"
    },
    "tags": []
   },
   "source": [
    "In the above example, an ndarray object is prepared by arange() function. Then a slice object is defined with start, stop, and step values 2, 7, and 2 respectively. When this slice object is passed to the ndarray, a part of it starting with index 2 up to 7 with a step of 2 is sliced.\n",
    "\n",
    "The same result can also be obtained by giving the slicing parameters separated by a colon : (start:stop:step) directly to the ndarray object."
   ]
  },
  {
   "cell_type": "code",
   "execution_count": 37,
   "metadata": {
    "execution": {
     "iopub.execute_input": "2021-07-18T14:07:10.769043Z",
     "iopub.status.busy": "2021-07-18T14:07:10.768160Z",
     "iopub.status.idle": "2021-07-18T14:07:10.772873Z",
     "shell.execute_reply": "2021-07-18T14:07:10.772225Z",
     "shell.execute_reply.started": "2021-07-15T02:03:14.210551Z"
    },
    "papermill": {
     "duration": 0.111068,
     "end_time": "2021-07-18T14:07:10.773029",
     "exception": false,
     "start_time": "2021-07-18T14:07:10.661961",
     "status": "completed"
    },
    "tags": []
   },
   "outputs": [
    {
     "name": "stdout",
     "output_type": "stream",
     "text": [
      "[2 4 6]\n"
     ]
    }
   ],
   "source": [
    "import numpy as np \n",
    "\n",
    "a = np.arange(10) \n",
    "b = a[2:7:2] \n",
    "print(b)"
   ]
  },
  {
   "cell_type": "markdown",
   "metadata": {
    "papermill": {
     "duration": 0.100974,
     "end_time": "2021-07-18T14:07:10.975437",
     "exception": false,
     "start_time": "2021-07-18T14:07:10.874463",
     "status": "completed"
    },
    "tags": []
   },
   "source": [
    "If only one parameter is put, a single item corresponding to the index will be returned. If a : is inserted in front of it, all items from that index onwards will be extracted. If two parameters (with : between them) is used, items between the two indexes (not including the stop index) with default step one are sliced."
   ]
  },
  {
   "cell_type": "code",
   "execution_count": 38,
   "metadata": {
    "execution": {
     "iopub.execute_input": "2021-07-18T14:07:11.188169Z",
     "iopub.status.busy": "2021-07-18T14:07:11.187431Z",
     "iopub.status.idle": "2021-07-18T14:07:11.189991Z",
     "shell.execute_reply": "2021-07-18T14:07:11.190550Z",
     "shell.execute_reply.started": "2021-07-15T02:03:17.230198Z"
    },
    "papermill": {
     "duration": 0.111035,
     "end_time": "2021-07-18T14:07:11.190763",
     "exception": false,
     "start_time": "2021-07-18T14:07:11.079728",
     "status": "completed"
    },
    "tags": []
   },
   "outputs": [
    {
     "name": "stdout",
     "output_type": "stream",
     "text": [
      "5\n"
     ]
    }
   ],
   "source": [
    "# slice single item \n",
    "import numpy as np \n",
    "\n",
    "a = np.arange(10) \n",
    "b = a[5] \n",
    "print(b)"
   ]
  },
  {
   "cell_type": "code",
   "execution_count": 39,
   "metadata": {
    "execution": {
     "iopub.execute_input": "2021-07-18T14:07:11.400648Z",
     "iopub.status.busy": "2021-07-18T14:07:11.399955Z",
     "iopub.status.idle": "2021-07-18T14:07:11.403055Z",
     "shell.execute_reply": "2021-07-18T14:07:11.403677Z",
     "shell.execute_reply.started": "2021-07-15T02:03:19.781145Z"
    },
    "papermill": {
     "duration": 0.110728,
     "end_time": "2021-07-18T14:07:11.403867",
     "exception": false,
     "start_time": "2021-07-18T14:07:11.293139",
     "status": "completed"
    },
    "tags": []
   },
   "outputs": [
    {
     "name": "stdout",
     "output_type": "stream",
     "text": [
      "[2 3 4 5 6 7 8 9]\n"
     ]
    }
   ],
   "source": [
    "# slice items starting from index \n",
    "import numpy as np \n",
    "\n",
    "a = np.arange(10) \n",
    "print(a[2:])"
   ]
  },
  {
   "cell_type": "code",
   "execution_count": 40,
   "metadata": {
    "execution": {
     "iopub.execute_input": "2021-07-18T14:07:11.626336Z",
     "iopub.status.busy": "2021-07-18T14:07:11.625435Z",
     "iopub.status.idle": "2021-07-18T14:07:11.632601Z",
     "shell.execute_reply": "2021-07-18T14:07:11.631589Z",
     "shell.execute_reply.started": "2021-07-15T02:03:22.680789Z"
    },
    "papermill": {
     "duration": 0.127402,
     "end_time": "2021-07-18T14:07:11.632854",
     "exception": false,
     "start_time": "2021-07-18T14:07:11.505452",
     "status": "completed"
    },
    "tags": []
   },
   "outputs": [
    {
     "name": "stdout",
     "output_type": "stream",
     "text": [
      "[2 3 4]\n"
     ]
    }
   ],
   "source": [
    "# slice items between indexes \n",
    "import numpy as np \n",
    "\n",
    "a = np.arange(10) \n",
    "print(a[2:5])"
   ]
  },
  {
   "cell_type": "code",
   "execution_count": 41,
   "metadata": {
    "execution": {
     "iopub.execute_input": "2021-07-18T14:07:11.862342Z",
     "iopub.status.busy": "2021-07-18T14:07:11.861656Z",
     "iopub.status.idle": "2021-07-18T14:07:11.865814Z",
     "shell.execute_reply": "2021-07-18T14:07:11.866500Z",
     "shell.execute_reply.started": "2021-07-15T02:03:25.590058Z"
    },
    "papermill": {
     "duration": 0.114983,
     "end_time": "2021-07-18T14:07:11.866754",
     "exception": false,
     "start_time": "2021-07-18T14:07:11.751771",
     "status": "completed"
    },
    "tags": []
   },
   "outputs": [
    {
     "name": "stdout",
     "output_type": "stream",
     "text": [
      "[[1 2 3]\n",
      " [3 4 5]\n",
      " [4 5 6]]\n",
      "Now we will slice the array from the index a[1:]\n",
      "[[3 4 5]\n",
      " [4 5 6]]\n"
     ]
    }
   ],
   "source": [
    "import numpy as np \n",
    "\n",
    "a = np.array([[1,2,3],[3,4,5],[4,5,6]]) \n",
    "print(a)  \n",
    "\n",
    "# slice items starting from index\n",
    "print('Now we will slice the array from the index a[1:]') \n",
    "print(a[1:])"
   ]
  },
  {
   "cell_type": "code",
   "execution_count": 42,
   "metadata": {
    "execution": {
     "iopub.execute_input": "2021-07-18T14:07:12.086774Z",
     "iopub.status.busy": "2021-07-18T14:07:12.086017Z",
     "iopub.status.idle": "2021-07-18T14:07:12.090143Z",
     "shell.execute_reply": "2021-07-18T14:07:12.089530Z",
     "shell.execute_reply.started": "2021-07-15T02:03:29.131113Z"
    },
    "papermill": {
     "duration": 0.118368,
     "end_time": "2021-07-18T14:07:12.090302",
     "exception": false,
     "start_time": "2021-07-18T14:07:11.971934",
     "status": "completed"
    },
    "tags": []
   },
   "outputs": [
    {
     "name": "stdout",
     "output_type": "stream",
     "text": [
      "Our array is:\n",
      "[[1 2 3]\n",
      " [3 4 5]\n",
      " [4 5 6]]\n",
      "\n",
      "\n",
      "The items in the second column are:\n",
      "[2 4 5]\n",
      "\n",
      "\n",
      "The items in the second row are:\n",
      "[3 4 5]\n",
      "\n",
      "\n",
      "The items column 1 onwards are:\n",
      "[[2 3]\n",
      " [4 5]\n",
      " [5 6]]\n"
     ]
    }
   ],
   "source": [
    "# array to begin with \n",
    "import numpy as np \n",
    "\n",
    "a = np.array([[1,2,3],[3,4,5],[4,5,6]]) \n",
    "\n",
    "print('Our array is:') \n",
    "print(a) \n",
    "print('\\n')  \n",
    "\n",
    "# this returns array of items in the second column \n",
    "print('The items in the second column are:'  )\n",
    "print(a[...,1] )\n",
    "print('\\n')  \n",
    "\n",
    "# Now we will slice all items from the second row \n",
    "print('The items in the second row are:' )\n",
    "print(a[1,...]) \n",
    "print( '\\n'  )\n",
    "\n",
    "# Now we will slice all items from column 1 onwards \n",
    "print('The items column 1 onwards are:') \n",
    "print(a[...,1:])"
   ]
  },
  {
   "cell_type": "markdown",
   "metadata": {
    "papermill": {
     "duration": 0.12562,
     "end_time": "2021-07-18T14:07:12.341727",
     "exception": false,
     "start_time": "2021-07-18T14:07:12.216107",
     "status": "completed"
    },
    "tags": []
   },
   "source": [
    "# NumPy - Advanced Indexing\n",
    "\n",
    "It is possible to make a selection from ndarray that is a non-tuple sequence, ndarray object of integer or Boolean data type, or a tuple with at least one item being a sequence object. Advanced indexing always returns a copy of the data. As against this, the slicing only presents a view.\n",
    "\n",
    "There are two types of advanced indexing − **Integer** and **Boolean.**\n",
    "\n",
    "* **Integer Indexing**\n",
    "\n",
    " This mechanism helps in selecting any arbitrary item in an array based on its Ndimensional index. Each integer array represents the number of indexes into that dimension. When the index consists of as many integer arrays as the dimensions of the target ndarray, it becomes straightforward."
   ]
  },
  {
   "cell_type": "markdown",
   "metadata": {
    "papermill": {
     "duration": 0.113502,
     "end_time": "2021-07-18T14:07:12.573119",
     "exception": false,
     "start_time": "2021-07-18T14:07:12.459617",
     "status": "completed"
    },
    "tags": []
   },
   "source": [
    "\n",
    "In the following example, one element of specified column from each row of ndarray object is selected. Hence, the row index contains all row numbers, and the column index specifies the element to be selected."
   ]
  },
  {
   "cell_type": "code",
   "execution_count": 43,
   "metadata": {
    "execution": {
     "iopub.execute_input": "2021-07-18T14:07:12.792024Z",
     "iopub.status.busy": "2021-07-18T14:07:12.791246Z",
     "iopub.status.idle": "2021-07-18T14:07:12.796249Z",
     "shell.execute_reply": "2021-07-18T14:07:12.795557Z",
     "shell.execute_reply.started": "2021-07-15T02:03:33.810156Z"
    },
    "papermill": {
     "duration": 0.118811,
     "end_time": "2021-07-18T14:07:12.796474",
     "exception": false,
     "start_time": "2021-07-18T14:07:12.677663",
     "status": "completed"
    },
    "tags": []
   },
   "outputs": [
    {
     "name": "stdout",
     "output_type": "stream",
     "text": [
      "[1 4 5]\n"
     ]
    }
   ],
   "source": [
    "import numpy as np \n",
    "\n",
    "x = np.array([[1, 2], [3, 4], [5, 6]]) \n",
    "y = x[[0,1,2], [0,1,0]] \n",
    "print(y)"
   ]
  },
  {
   "cell_type": "markdown",
   "metadata": {
    "papermill": {
     "duration": 0.107831,
     "end_time": "2021-07-18T14:07:13.010883",
     "exception": false,
     "start_time": "2021-07-18T14:07:12.903052",
     "status": "completed"
    },
    "tags": []
   },
   "source": [
    "The selection includes elements at (0,0), (1,1) and (2,0) from the first array.\n",
    "\n",
    "In the following example, elements placed at corners of a 4X3 array are selected. The row indices of selection are [0, 0] and [3,3] whereas the column indices are [0,2] and [0,2]."
   ]
  },
  {
   "cell_type": "code",
   "execution_count": 44,
   "metadata": {
    "execution": {
     "iopub.execute_input": "2021-07-18T14:07:13.230651Z",
     "iopub.status.busy": "2021-07-18T14:07:13.229919Z",
     "iopub.status.idle": "2021-07-18T14:07:13.235449Z",
     "shell.execute_reply": "2021-07-18T14:07:13.234742Z",
     "shell.execute_reply.started": "2021-07-15T02:03:36.840897Z"
    },
    "papermill": {
     "duration": 0.118406,
     "end_time": "2021-07-18T14:07:13.235623",
     "exception": false,
     "start_time": "2021-07-18T14:07:13.117217",
     "status": "completed"
    },
    "tags": []
   },
   "outputs": [
    {
     "name": "stdout",
     "output_type": "stream",
     "text": [
      "Original error  array is\n",
      "[[ 0  1  2]\n",
      " [ 3  4  5]\n",
      " [ 6  7  8]\n",
      " [ 9 10 11]]\n",
      "\n",
      "\n",
      "The corner elements of this array are:\n",
      "[[ 0  2]\n",
      " [ 9 11]]\n"
     ]
    }
   ],
   "source": [
    "import numpy as np \n",
    "\n",
    "x = np.array([[ 0,  1,  2],[ 3,  4,  5],[ 6,  7,  8],[ 9, 10, 11]]) \n",
    "   \n",
    "print('Original error  array is') \n",
    "print(x) \n",
    "print('\\n') \n",
    "\n",
    "rows = np.array([[0,0],[3,3]])\n",
    "cols = np.array([[0,2],[0,2]]) \n",
    "y = x[rows,cols] \n",
    "   \n",
    "print('The corner elements of this array are:') \n",
    "print (y)"
   ]
  },
  {
   "cell_type": "markdown",
   "metadata": {
    "papermill": {
     "duration": 0.103831,
     "end_time": "2021-07-18T14:07:13.445443",
     "exception": false,
     "start_time": "2021-07-18T14:07:13.341612",
     "status": "completed"
    },
    "tags": []
   },
   "source": [
    "Advanced and basic indexing can be combined by using one slice (:) or ellipsis (…) with an index array. The following example uses slice for row and advanced index for column. The result is the same when slice is used for both. But advanced index results in copy and may have different memory layout."
   ]
  },
  {
   "cell_type": "code",
   "execution_count": 45,
   "metadata": {
    "execution": {
     "iopub.execute_input": "2021-07-18T14:07:13.662551Z",
     "iopub.status.busy": "2021-07-18T14:07:13.661744Z",
     "iopub.status.idle": "2021-07-18T14:07:13.668545Z",
     "shell.execute_reply": "2021-07-18T14:07:13.667614Z",
     "shell.execute_reply.started": "2021-07-15T02:03:41.141241Z"
    },
    "papermill": {
     "duration": 0.118625,
     "end_time": "2021-07-18T14:07:13.668737",
     "exception": false,
     "start_time": "2021-07-18T14:07:13.550112",
     "status": "completed"
    },
    "tags": []
   },
   "outputs": [
    {
     "name": "stdout",
     "output_type": "stream",
     "text": [
      "Original array\n",
      "[[ 0  1  2]\n",
      " [ 3  4  5]\n",
      " [ 6  7  8]\n",
      " [ 9 10 11]]\n",
      "\n",
      "\n",
      "After slicing, our array becomes:\n",
      "[[ 4  5]\n",
      " [ 7  8]\n",
      " [10 11]]\n",
      "\n",
      "\n",
      "Slicing using advanced index for column:\n",
      "[[ 4  5]\n",
      " [ 7  8]\n",
      " [10 11]]\n"
     ]
    }
   ],
   "source": [
    "import numpy as np \n",
    "x = np.array([[ 0,  1,  2],[ 3,  4,  5],[ 6,  7,  8],[ 9, 10, 11]]) \n",
    "\n",
    "print ('Original array') \n",
    "print (x) \n",
    "print ('\\n')  \n",
    "\n",
    "# slicing \n",
    "z = x[1:4,1:3] \n",
    "\n",
    "print ('After slicing, our array becomes:' )\n",
    "print (z)\n",
    "print ('\\n')  \n",
    "\n",
    "# using advanced index for column \n",
    "\n",
    "y = x[1:4,[1,2]] \n",
    "\n",
    "print ('Slicing using advanced index for column:') \n",
    "print(y)\n"
   ]
  },
  {
   "cell_type": "markdown",
   "metadata": {
    "papermill": {
     "duration": 0.10368,
     "end_time": "2021-07-18T14:07:13.875962",
     "exception": false,
     "start_time": "2021-07-18T14:07:13.772282",
     "status": "completed"
    },
    "tags": []
   },
   "source": [
    "# Boolean Array Indexing\n",
    "\n",
    "This type of advanced indexing is used when the resultant object is meant to be the result of Boolean operations, such as comparison operators.\n"
   ]
  },
  {
   "cell_type": "code",
   "execution_count": 46,
   "metadata": {
    "execution": {
     "iopub.execute_input": "2021-07-18T14:07:14.093695Z",
     "iopub.status.busy": "2021-07-18T14:07:14.092683Z",
     "iopub.status.idle": "2021-07-18T14:07:14.096851Z",
     "shell.execute_reply": "2021-07-18T14:07:14.096217Z",
     "shell.execute_reply.started": "2021-07-15T02:46:13.381866Z"
    },
    "papermill": {
     "duration": 0.11729,
     "end_time": "2021-07-18T14:07:14.096994",
     "exception": false,
     "start_time": "2021-07-18T14:07:13.979704",
     "status": "completed"
    },
    "tags": []
   },
   "outputs": [
    {
     "name": "stdout",
     "output_type": "stream",
     "text": [
      "Orginal array is\n",
      "[[ 0  1  2]\n",
      " [ 3  4  5]\n",
      " [ 6  7  8]\n",
      " [ 9 10 11]]\n",
      "\n",
      "\n",
      "The items greater than 5 are:\n",
      "[ 6  7  8  9 10 11]\n"
     ]
    }
   ],
   "source": [
    "# This example, items greater than 5 are returned as a result of Boolean indexing.\n",
    "import numpy as np \n",
    "\n",
    "x = np.array([[ 0,  1,  2],[ 3,  4,  5],[ 6,  7,  8],[ 9, 10, 11]]) \n",
    "\n",
    "print('Orginal array is') \n",
    "print(x)\n",
    "print('\\n')  \n",
    "\n",
    "# Now we will print the items greater than 5 \n",
    "print('The items greater than 5 are:') \n",
    "print(x[x > 5])\n"
   ]
  },
  {
   "cell_type": "code",
   "execution_count": 47,
   "metadata": {
    "execution": {
     "iopub.execute_input": "2021-07-18T14:07:14.318913Z",
     "iopub.status.busy": "2021-07-18T14:07:14.318230Z",
     "iopub.status.idle": "2021-07-18T14:07:14.321155Z",
     "shell.execute_reply": "2021-07-18T14:07:14.321852Z",
     "shell.execute_reply.started": "2021-07-15T02:46:16.574576Z"
    },
    "papermill": {
     "duration": 0.116298,
     "end_time": "2021-07-18T14:07:14.322101",
     "exception": false,
     "start_time": "2021-07-18T14:07:14.205803",
     "status": "completed"
    },
    "tags": []
   },
   "outputs": [
    {
     "name": "stdout",
     "output_type": "stream",
     "text": [
      "[2. +6.j 3.5+5.j]\n"
     ]
    }
   ],
   "source": [
    "# This example shows how to filter out the non-complex elements from an array.\n",
    "import numpy as np \n",
    "\n",
    "a = np.array([1, 2+6j, 5, 3.5+5j]) \n",
    "print(a[np.iscomplex(a)])"
   ]
  },
  {
   "cell_type": "markdown",
   "metadata": {
    "papermill": {
     "duration": 0.104029,
     "end_time": "2021-07-18T14:07:14.531240",
     "exception": false,
     "start_time": "2021-07-18T14:07:14.427211",
     "status": "completed"
    },
    "tags": []
   },
   "source": [
    "# NumPy Broadcasting\n",
    "\n",
    "The term broadcasting refers to the ability of NumPy to treat arrays of different shapes during arithmetic operations. Arithmetic operations on arrays are usually done on corresponding elements. If two arrays are of exactly the same shape, then these operations are smoothly performed."
   ]
  },
  {
   "cell_type": "code",
   "execution_count": 48,
   "metadata": {
    "execution": {
     "iopub.execute_input": "2021-07-18T14:07:14.749415Z",
     "iopub.status.busy": "2021-07-18T14:07:14.748706Z",
     "iopub.status.idle": "2021-07-18T14:07:14.751478Z",
     "shell.execute_reply": "2021-07-18T14:07:14.751993Z",
     "shell.execute_reply.started": "2021-07-15T02:46:24.875431Z"
    },
    "papermill": {
     "duration": 0.115571,
     "end_time": "2021-07-18T14:07:14.752171",
     "exception": false,
     "start_time": "2021-07-18T14:07:14.636600",
     "status": "completed"
    },
    "tags": []
   },
   "outputs": [
    {
     "name": "stdout",
     "output_type": "stream",
     "text": [
      "[ 2  8 18 32 50 72 56]\n"
     ]
    }
   ],
   "source": [
    "import numpy as np\n",
    "\n",
    "a = np.array([1,2,3,4,5,6,7])  \n",
    "b = np.array([2,4,6,8,10,12,8])  \n",
    "c= np.multiply(a,b)  \n",
    "print(c)  "
   ]
  },
  {
   "cell_type": "code",
   "execution_count": 49,
   "metadata": {
    "execution": {
     "iopub.execute_input": "2021-07-18T14:07:14.968304Z",
     "iopub.status.busy": "2021-07-18T14:07:14.967566Z",
     "iopub.status.idle": "2021-07-18T14:07:14.976799Z",
     "shell.execute_reply": "2021-07-18T14:07:14.977344Z",
     "shell.execute_reply.started": "2021-07-15T02:46:27.340341Z"
    },
    "papermill": {
     "duration": 0.119378,
     "end_time": "2021-07-18T14:07:14.977539",
     "exception": false,
     "start_time": "2021-07-18T14:07:14.858161",
     "status": "completed"
    },
    "tags": []
   },
   "outputs": [
    {
     "name": "stdout",
     "output_type": "stream",
     "text": [
      "\n",
      "printing array a..\n",
      "[[ 1  2  3  4]\n",
      " [ 2  4  5  6]\n",
      " [10 20 39  3]]\n",
      "\n",
      "printing array b..\n",
      "[2 4 6 8]\n",
      "\n",
      "Adding arrays a and b ..\n",
      "[[ 3  6  9 12]\n",
      " [ 4  8 11 14]\n",
      " [12 24 45 11]]\n"
     ]
    }
   ],
   "source": [
    "import numpy as np \n",
    "\n",
    "a = np.array([[1,2,3,4],[2,4,5,6],[10,20,39,3]])  \n",
    "b = np.array([2,4,6,8])  \n",
    "\n",
    "print(\"\\nprinting array a..\")  \n",
    "print(a)  \n",
    "\n",
    "print(\"\\nprinting array b..\")  \n",
    "\n",
    "print(b)  \n",
    "\n",
    "print(\"\\nAdding arrays a and b ..\")  \n",
    "c = a + b\n",
    "print(c)  "
   ]
  },
  {
   "cell_type": "markdown",
   "metadata": {
    "papermill": {
     "duration": 0.107151,
     "end_time": "2021-07-18T14:07:15.192445",
     "exception": false,
     "start_time": "2021-07-18T14:07:15.085294",
     "status": "completed"
    },
    "tags": []
   },
   "source": [
    "# NumPy Array Iteration\n",
    "\n",
    "NumPy package contains an iterator object numpy.nditer. It is an efficient multidimensional iterator object using which it is possible to iterate over an array. Each element of an array is visited using Python’s standard Iterator interface.\n",
    "\n",
    "**Order of Iteration**\n",
    "\n",
    "There are two ways of storing values into the numpy arrays:\n",
    "\n",
    "* **F-style order**\n",
    "* **C-style order**"
   ]
  },
  {
   "cell_type": "code",
   "execution_count": 50,
   "metadata": {
    "execution": {
     "iopub.execute_input": "2021-07-18T14:07:15.412920Z",
     "iopub.status.busy": "2021-07-18T14:07:15.412239Z",
     "iopub.status.idle": "2021-07-18T14:07:15.417032Z",
     "shell.execute_reply": "2021-07-18T14:07:15.416486Z",
     "shell.execute_reply.started": "2021-07-15T02:46:30.700354Z"
    },
    "papermill": {
     "duration": 0.117684,
     "end_time": "2021-07-18T14:07:15.417191",
     "exception": false,
     "start_time": "2021-07-18T14:07:15.299507",
     "status": "completed"
    },
    "tags": []
   },
   "outputs": [
    {
     "name": "stdout",
     "output_type": "stream",
     "text": [
      "Original array:\n",
      "[[ 1  2  3  4]\n",
      " [ 2  4  5  6]\n",
      " [10 20 39  3]]\n",
      "Iterating over the array:\n",
      "1 2 3 4 2 4 5 6 10 20 39 3 "
     ]
    }
   ],
   "source": [
    "#Let us create a 3X4 array using arange() function and iterate over it using nditer.\n",
    "import numpy as np  \n",
    "\n",
    "a = np.array([[1,2,3,4],[2,4,5,6],[10,20,39,3]]) \n",
    "\n",
    "print(\"Original array:\")  \n",
    "print(a)\n",
    "\n",
    "print(\"Iterating over the array:\")  \n",
    "for x in np.nditer(a):  \n",
    "    print(x,end=' ')  "
   ]
  },
  {
   "cell_type": "code",
   "execution_count": 51,
   "metadata": {
    "execution": {
     "iopub.execute_input": "2021-07-18T14:07:15.635824Z",
     "iopub.status.busy": "2021-07-18T14:07:15.635118Z",
     "iopub.status.idle": "2021-07-18T14:07:15.653053Z",
     "shell.execute_reply": "2021-07-18T14:07:15.652413Z",
     "shell.execute_reply.started": "2021-07-15T02:46:33.389784Z"
    },
    "papermill": {
     "duration": 0.128584,
     "end_time": "2021-07-18T14:07:15.653242",
     "exception": false,
     "start_time": "2021-07-18T14:07:15.524658",
     "status": "completed"
    },
    "tags": []
   },
   "outputs": [
    {
     "name": "stdout",
     "output_type": "stream",
     "text": [
      "\n",
      "Printing the array:\n",
      "\n",
      "[[ 1  2  3  4]\n",
      " [ 2  4  5  6]\n",
      " [10 20 39  3]]\n",
      "\n",
      "Printing the transpose of the array:\n",
      "\n",
      "[[ 1  2 10]\n",
      " [ 2  4 20]\n",
      " [ 3  5 39]\n",
      " [ 4  6  3]]\n",
      "\n",
      "Iterating over the transposed array\n",
      "\n",
      "1 2 3 4 2 4 5 6 10 20 39 3 \n",
      "Iterating over the C-style array:\n",
      "\n",
      "1 2 10 2 4 20 3 5 39 4 6 3 [[ 1  2 10]\n",
      " [ 2  4 20]\n",
      " [ 3  5 39]\n",
      " [ 4  6  3]]\n",
      "Iterating over the F-style array:\n",
      "\n",
      "1 2 3 4 2 4 5 6 10 20 39 3 "
     ]
    }
   ],
   "source": [
    "#Let's see an example of how the numpy Iterator treats the specific orders (F or C).\n",
    "import numpy as np  \n",
    "  \n",
    "a = np.array([[1,2,3,4],[2,4,5,6],[10,20,39,3]])  \n",
    "  \n",
    "print(\"\\nPrinting the array:\\n\")  \n",
    "  \n",
    "print(a)  \n",
    "  \n",
    "print(\"\\nPrinting the transpose of the array:\\n\")  \n",
    "at = a.T  \n",
    "  \n",
    "print(at)  \n",
    "  \n",
    "print(\"\\nIterating over the transposed array\\n\")  \n",
    "  \n",
    "for x in np.nditer(at):  \n",
    "    print(x, end= ' ')  \n",
    "  \n",
    " \n",
    "print(\"\\nIterating over the C-style array:\\n\")  \n",
    "c = at.copy(order = 'C')  \n",
    "for x in np.nditer(c):  \n",
    "    print(x,end=' ')  \n",
    "      \n",
    "d = at.copy(order = 'F')  \n",
    "  \n",
    "print(d)  \n",
    "print(\"Iterating over the F-style array:\\n\")  \n",
    "for x in np.nditer(d):  \n",
    "    print(x,end=' ')  "
   ]
  },
  {
   "cell_type": "code",
   "execution_count": 52,
   "metadata": {
    "execution": {
     "iopub.execute_input": "2021-07-18T14:07:15.873350Z",
     "iopub.status.busy": "2021-07-18T14:07:15.872251Z",
     "iopub.status.idle": "2021-07-18T14:07:15.887227Z",
     "shell.execute_reply": "2021-07-18T14:07:15.888007Z",
     "shell.execute_reply.started": "2021-07-15T02:46:36.300532Z"
    },
    "papermill": {
     "duration": 0.12585,
     "end_time": "2021-07-18T14:07:15.888275",
     "exception": false,
     "start_time": "2021-07-18T14:07:15.762425",
     "status": "completed"
    },
    "tags": []
   },
   "outputs": [
    {
     "name": "stdout",
     "output_type": "stream",
     "text": [
      "\n",
      "Printing the array:\n",
      "\n",
      "[[ 1  2  3  4]\n",
      " [ 2  4  5  6]\n",
      " [10 20 39  3]]\n",
      "\n",
      "Printing the transpose of the array:\n",
      "\n",
      "[[ 1  2 10]\n",
      " [ 2  4 20]\n",
      " [ 3  5 39]\n",
      " [ 4  6  3]]\n",
      "\n",
      "Iterating over the transposed array\n",
      "\n",
      "1 2 3 4 2 4 5 6 10 20 39 3 \n",
      "Iterating over the C-style array:\n",
      "\n",
      "1 2 10 2 4 20 3 5 39 4 6 3 "
     ]
    }
   ],
   "source": [
    "# We can mention the order 'C' or 'F' while defining the Iterator object itself. let's Consider the an example.\n",
    "import numpy as np  \n",
    "  \n",
    "a = np.array([[1,2,3,4],[2,4,5,6],[10,20,39,3]])  \n",
    "  \n",
    "print(\"\\nPrinting the array:\\n\")  \n",
    "  \n",
    "print(a)  \n",
    "  \n",
    "print(\"\\nPrinting the transpose of the array:\\n\")  \n",
    "at = a.T  \n",
    "  \n",
    "print(at)  \n",
    "  \n",
    "print(\"\\nIterating over the transposed array\\n\")  \n",
    "  \n",
    "for x in np.nditer(at):  \n",
    "    print(x, end= ' ')  \n",
    "\n",
    "print(\"\\nIterating over the C-style array:\\n\")  \n",
    "for x in np.nditer(at, order = 'C'):  \n",
    "    print(x,end=' ')  \n"
   ]
  },
  {
   "cell_type": "markdown",
   "metadata": {
    "papermill": {
     "duration": 0.106661,
     "end_time": "2021-07-18T14:07:16.104358",
     "exception": false,
     "start_time": "2021-07-18T14:07:15.997697",
     "status": "completed"
    },
    "tags": []
   },
   "source": [
    "# NumPy Mathematical Functions\n",
    "\n",
    "Numpy contains a large number of mathematical functions which can be used to perform various mathematical operations. The mathematical functions include trigonometric functions, arithmetic functions, and functions for handling complex numbers. Let's discuss the mathematical functions.\n",
    "\n",
    "\n",
    "\n",
    "* **Trigonometric functions**\n",
    "\n",
    " Numpy contains the trigonometric functions which are used to calculate the sine, cosine, and tangent of the different angles in radian"
   ]
  },
  {
   "cell_type": "code",
   "execution_count": 53,
   "metadata": {
    "execution": {
     "iopub.execute_input": "2021-07-18T14:07:16.327647Z",
     "iopub.status.busy": "2021-07-18T14:07:16.326852Z",
     "iopub.status.idle": "2021-07-18T14:07:16.332434Z",
     "shell.execute_reply": "2021-07-18T14:07:16.331825Z",
     "shell.execute_reply.started": "2021-07-15T02:46:39.860313Z"
    },
    "papermill": {
     "duration": 0.121847,
     "end_time": "2021-07-18T14:07:16.332586",
     "exception": false,
     "start_time": "2021-07-18T14:07:16.210739",
     "status": "completed"
    },
    "tags": []
   },
   "outputs": [
    {
     "name": "stdout",
     "output_type": "stream",
     "text": [
      "\n",
      "The sin value of the angles [0.00000000e+00 5.00000000e-01 8.66025404e-01 1.00000000e+00\n",
      " 8.66025404e-01 5.00000000e-01 1.22464680e-16]\n",
      "\n",
      "The cosine value of the angles [ 1.00000000e+00  8.66025404e-01  5.00000000e-01  6.12323400e-17\n",
      " -5.00000000e-01 -8.66025404e-01 -1.00000000e+00]\n",
      "\n",
      "The tangent value of the angles [ 0.00000000e+00  5.77350269e-01  1.73205081e+00  1.63312394e+16\n",
      " -1.73205081e+00 -5.77350269e-01 -1.22464680e-16]\n"
     ]
    }
   ],
   "source": [
    "import numpy as np  \n",
    "\n",
    "arr = np.array([0, 30, 60, 90, 120, 150, 180])  \n",
    "\n",
    "print(\"\\nThe sin value of the angles\",end = \" \")  \n",
    "print(np.sin(arr * np.pi/180)) \n",
    "\n",
    "print(\"\\nThe cosine value of the angles\",end = \" \")  \n",
    "print(np.cos(arr * np.pi/180))\n",
    "\n",
    "print(\"\\nThe tangent value of the angles\",end = \" \")  \n",
    "print(np.tan(arr * np.pi/180))  "
   ]
  },
  {
   "cell_type": "markdown",
   "metadata": {
    "papermill": {
     "duration": 0.107582,
     "end_time": "2021-07-18T14:07:16.549090",
     "exception": false,
     "start_time": "2021-07-18T14:07:16.441508",
     "status": "completed"
    },
    "tags": []
   },
   "source": [
    "* **Rounding Functions**\n",
    "\n",
    " The numpy provides various functions that can be used to truncate the value of a decimal float number rounded to a particular precision of decimal numbers. Let's discuss the rounding functions.\n",
    " \n",
    " *  **The numpy.around() function**\n",
    " \n",
    "   This function returns a decimal value rounded to a desired position of the decimal. \n",
    "\n",
    "   *The syntax of the function is given below.*\n",
    "\n",
    "   **numpy.around(num, decimals)**\n"
   ]
  },
  {
   "cell_type": "code",
   "execution_count": 54,
   "metadata": {
    "execution": {
     "iopub.execute_input": "2021-07-18T14:07:16.771703Z",
     "iopub.status.busy": "2021-07-18T14:07:16.770626Z",
     "iopub.status.idle": "2021-07-18T14:07:16.776474Z",
     "shell.execute_reply": "2021-07-18T14:07:16.775600Z",
     "shell.execute_reply.started": "2021-07-15T02:46:43.290235Z"
    },
    "papermill": {
     "duration": 0.120482,
     "end_time": "2021-07-18T14:07:16.776700",
     "exception": false,
     "start_time": "2021-07-18T14:07:16.656218",
     "status": "completed"
    },
    "tags": []
   },
   "outputs": [
    {
     "name": "stdout",
     "output_type": "stream",
     "text": [
      "printing the original array values: [ 12.202   90.2312 123.02    23.202 ]\n",
      "Array values rounded off to 2 decimal position [ 12.2   90.23 123.02  23.2 ]\n",
      "Array values rounded off to -1 decimal position [ 10.  90. 120.  20.]\n"
     ]
    }
   ],
   "source": [
    "import numpy as np  \n",
    "arr = np.array([12.202, 90.23120, 123.020, 23.202])  \n",
    "\n",
    "print(\"printing the original array values:\",end = \" \")  \n",
    "print(arr)  \n",
    "\n",
    "print(\"Array values rounded off to 2 decimal position\",np.around(arr, 2))  \n",
    "\n",
    "print(\"Array values rounded off to -1 decimal position\",np.around(arr, -1))"
   ]
  },
  {
   "cell_type": "markdown",
   "metadata": {
    "papermill": {
     "duration": 0.107156,
     "end_time": "2021-07-18T14:07:16.992707",
     "exception": false,
     "start_time": "2021-07-18T14:07:16.885551",
     "status": "completed"
    },
    "tags": []
   },
   "source": [
    "* **Numpy.floor() function**\n",
    "\n",
    " This function is used to return the floor value of the input data which is the largest integer not greater than the input value."
   ]
  },
  {
   "cell_type": "code",
   "execution_count": 55,
   "metadata": {
    "execution": {
     "iopub.execute_input": "2021-07-18T14:07:17.218613Z",
     "iopub.status.busy": "2021-07-18T14:07:17.217788Z",
     "iopub.status.idle": "2021-07-18T14:07:17.222356Z",
     "shell.execute_reply": "2021-07-18T14:07:17.222812Z",
     "shell.execute_reply.started": "2021-07-15T02:46:45.949703Z"
    },
    "papermill": {
     "duration": 0.11914,
     "end_time": "2021-07-18T14:07:17.223009",
     "exception": false,
     "start_time": "2021-07-18T14:07:17.103869",
     "status": "completed"
    },
    "tags": []
   },
   "outputs": [
    {
     "name": "stdout",
     "output_type": "stream",
     "text": [
      "[ 12.  90. 123.  23.]\n"
     ]
    }
   ],
   "source": [
    "# Let consider the following example.\n",
    "import numpy as np  \n",
    "\n",
    "arr = np.array([12.202, 90.23120, 123.020, 23.202])  \n",
    "print(np.floor(arr))  \n"
   ]
  },
  {
   "cell_type": "markdown",
   "metadata": {
    "papermill": {
     "duration": 0.107865,
     "end_time": "2021-07-18T14:07:17.440207",
     "exception": false,
     "start_time": "2021-07-18T14:07:17.332342",
     "status": "completed"
    },
    "tags": []
   },
   "source": [
    "* **Numpy.ceil() function**\n",
    "\n",
    " This function is used to return the ceiling value of the array values which is the smallest integer value greater than the array elements"
   ]
  },
  {
   "cell_type": "code",
   "execution_count": 56,
   "metadata": {
    "execution": {
     "iopub.execute_input": "2021-07-18T14:07:17.668641Z",
     "iopub.status.busy": "2021-07-18T14:07:17.667840Z",
     "iopub.status.idle": "2021-07-18T14:07:17.671433Z",
     "shell.execute_reply": "2021-07-18T14:07:17.672340Z",
     "shell.execute_reply.started": "2021-07-15T02:46:48.929663Z"
    },
    "papermill": {
     "duration": 0.125041,
     "end_time": "2021-07-18T14:07:17.672596",
     "exception": false,
     "start_time": "2021-07-18T14:07:17.547555",
     "status": "completed"
    },
    "tags": []
   },
   "outputs": [
    {
     "name": "stdout",
     "output_type": "stream",
     "text": [
      "[ 13.  91. 124.  24.]\n"
     ]
    }
   ],
   "source": [
    "# Let consider the following example.\n",
    "import numpy as np \n",
    "\n",
    "arr = np.array([12.202, 90.23120, 123.020, 23.202])  \n",
    "print(np.ceil(arr))  "
   ]
  },
  {
   "cell_type": "markdown",
   "metadata": {
    "papermill": {
     "duration": 0.10699,
     "end_time": "2021-07-18T14:07:17.890988",
     "exception": false,
     "start_time": "2021-07-18T14:07:17.783998",
     "status": "completed"
    },
    "tags": []
   },
   "source": [
    "# Numpy statistical functions\n",
    "\n",
    "Numpy provides various statistical functions which are used to perform some statistical data analysis\n",
    "\n",
    "* **Finding the minimum and maximum elements from the array**\n",
    "\n",
    " The numpy.amin() and numpy.amax() functions are used to find the minimum and maximum of the array elements along the specified axis respectively."
   ]
  },
  {
   "cell_type": "code",
   "execution_count": 57,
   "metadata": {
    "execution": {
     "iopub.execute_input": "2021-07-18T14:07:18.116626Z",
     "iopub.status.busy": "2021-07-18T14:07:18.115757Z",
     "iopub.status.idle": "2021-07-18T14:07:18.121368Z",
     "shell.execute_reply": "2021-07-18T14:07:18.120709Z",
     "shell.execute_reply.started": "2021-07-15T02:46:51.71047Z"
    },
    "papermill": {
     "duration": 0.122629,
     "end_time": "2021-07-18T14:07:18.121524",
     "exception": false,
     "start_time": "2021-07-18T14:07:17.998895",
     "status": "completed"
    },
    "tags": []
   },
   "outputs": [
    {
     "name": "stdout",
     "output_type": "stream",
     "text": [
      "The original array:\n",
      "\n",
      "[[ 2 10 20]\n",
      " [80 43 31]\n",
      " [22 43 10]]\n",
      "\n",
      "The minimum element among the array: 2\n",
      "The maximum element among the array: 80\n",
      "\n",
      "The minimum element among the rows of array [ 2 10 10]\n",
      "The maximum element among the rows of array [80 43 31]\n",
      "\n",
      "The minimum element among the columns of array [ 2 31 10]\n",
      "The maximum element among the columns of array [20 80 43]\n"
     ]
    }
   ],
   "source": [
    "import numpy as np  \n",
    "  \n",
    "a = np.array([[2,10,20],[80,43,31],[22,43,10]])  \n",
    "  \n",
    "print(\"The original array:\\n\")  \n",
    "print(a)  \n",
    "\n",
    "# Maximum and Minimum  \n",
    "print(\"\\nThe minimum element among the array:\",np.amin(a))  \n",
    "print(\"The maximum element among the array:\",np.amax(a))  \n",
    "  \n",
    "# Maximum and Minimum along axis 0 \n",
    "print(\"\\nThe minimum element among the rows of array\",np.amin(a,0))  \n",
    "print(\"The maximum element among the rows of array\",np.amax(a,0))  \n",
    "  \n",
    "# Maximum and Minimum along axis 1\n",
    "print(\"\\nThe minimum element among the columns of array\",np.amin(a,1))  \n",
    "print(\"The maximum element among the columns of array\",np.amax(a,1))  \n",
    "\n",
    "\n",
    "# Note axis 0 represent row and axis 1 represent columun"
   ]
  },
  {
   "cell_type": "markdown",
   "metadata": {
    "papermill": {
     "duration": 0.108921,
     "end_time": "2021-07-18T14:07:18.339102",
     "exception": false,
     "start_time": "2021-07-18T14:07:18.230181",
     "status": "completed"
    },
    "tags": []
   },
   "source": [
    "* **Numpy.ptp() function**\n",
    " \n",
    " The name of the function numpy.ptp() is derived from the name peak-to-peak. It is used to return the range of values along an axis"
   ]
  },
  {
   "cell_type": "code",
   "execution_count": 58,
   "metadata": {
    "execution": {
     "iopub.execute_input": "2021-07-18T14:07:18.562919Z",
     "iopub.status.busy": "2021-07-18T14:07:18.562230Z",
     "iopub.status.idle": "2021-07-18T14:07:18.568544Z",
     "shell.execute_reply": "2021-07-18T14:07:18.567826Z",
     "shell.execute_reply.started": "2021-07-15T02:46:55.020001Z"
    },
    "papermill": {
     "duration": 0.121519,
     "end_time": "2021-07-18T14:07:18.568712",
     "exception": false,
     "start_time": "2021-07-18T14:07:18.447193",
     "status": "completed"
    },
    "tags": []
   },
   "outputs": [
    {
     "name": "stdout",
     "output_type": "stream",
     "text": [
      "Original array:\n",
      " [[ 2 10 20]\n",
      " [80 43 31]\n",
      " [22 43 10]]\n",
      "\n",
      "ptp value along axis 1: [18 49 33]\n",
      "ptp value along axis 0: [78 33 21]\n"
     ]
    }
   ],
   "source": [
    "# Let consider the following example.\n",
    "\n",
    "import numpy as np  \n",
    "  \n",
    "a = np.array([[2,10,20],[80,43,31],[22,43,10]])  \n",
    "  \n",
    "print(\"Original array:\\n\",a)  \n",
    "  \n",
    "print(\"\\nptp value along axis 1:\",np.ptp(a,1))  \n",
    "  \n",
    "print(\"ptp value along axis 0:\",np.ptp(a,0)) "
   ]
  },
  {
   "cell_type": "markdown",
   "metadata": {
    "papermill": {
     "duration": 0.108307,
     "end_time": "2021-07-18T14:07:18.787613",
     "exception": false,
     "start_time": "2021-07-18T14:07:18.679306",
     "status": "completed"
    },
    "tags": []
   },
   "source": [
    "* **Numpy.percentile() function**\n",
    " \n",
    " The syntax to use the function is : numpy.percentile(input, q, axis)\n"
   ]
  },
  {
   "cell_type": "code",
   "execution_count": 59,
   "metadata": {
    "execution": {
     "iopub.execute_input": "2021-07-18T14:07:19.012772Z",
     "iopub.status.busy": "2021-07-18T14:07:19.012048Z",
     "iopub.status.idle": "2021-07-18T14:07:19.021164Z",
     "shell.execute_reply": "2021-07-18T14:07:19.020290Z",
     "shell.execute_reply.started": "2021-07-15T02:46:58.730411Z"
    },
    "papermill": {
     "duration": 0.124832,
     "end_time": "2021-07-18T14:07:19.021392",
     "exception": false,
     "start_time": "2021-07-18T14:07:18.896560",
     "status": "completed"
    },
    "tags": []
   },
   "outputs": [
    {
     "name": "stdout",
     "output_type": "stream",
     "text": [
      "Array:\n",
      " [[ 2 10 20]\n",
      " [80 43 31]\n",
      " [22 43 10]]\n",
      "\n",
      "Percentile along axis 0 [ 6.  16.6 12. ]\n",
      "Percentile along axis 1 [ 3.6 33.4 12.4]\n"
     ]
    }
   ],
   "source": [
    "import numpy as np  \n",
    "  \n",
    "a = np.array([[2,10,20],[80,43,31],[22,43,10]])  \n",
    "  \n",
    "print(\"Array:\\n\",a)  \n",
    "  \n",
    "print(\"\\nPercentile along axis 0\",np.percentile(a, 10,0))  \n",
    "  \n",
    "print(\"Percentile along axis 1\",np.percentile(a, 10, 1)) "
   ]
  },
  {
   "cell_type": "code",
   "execution_count": 60,
   "metadata": {
    "execution": {
     "iopub.execute_input": "2021-07-18T14:07:19.253375Z",
     "iopub.status.busy": "2021-07-18T14:07:19.252641Z",
     "iopub.status.idle": "2021-07-18T14:07:19.259293Z",
     "shell.execute_reply": "2021-07-18T14:07:19.259828Z",
     "shell.execute_reply.started": "2021-07-15T02:47:01.511861Z"
    },
    "papermill": {
     "duration": 0.12497,
     "end_time": "2021-07-18T14:07:19.260037",
     "exception": false,
     "start_time": "2021-07-18T14:07:19.135067",
     "status": "completed"
    },
    "tags": []
   },
   "outputs": [
    {
     "name": "stdout",
     "output_type": "stream",
     "text": [
      "Array:\n",
      " [[1 2 3]\n",
      " [4 5 6]\n",
      " [7 8 9]]\n",
      "\n",
      "Median of array along axis 0: [4. 5. 6.]\n",
      "Mean of array along axis 0: [4. 5. 6.]\n",
      "Average of array along axis 1: [2. 5. 8.]\n"
     ]
    }
   ],
   "source": [
    "# Calculating median, mean, and average of array items\n",
    "import numpy as np  \n",
    "  \n",
    "a = np.array([[1,2,3],[4,5,6],[7,8,9]])  \n",
    "  \n",
    "print(\"Array:\\n\",a)  \n",
    "  \n",
    "print(\"\\nMedian of array along axis 0:\",np.median(a,0))  \n",
    "\n",
    "print(\"Mean of array along axis 0:\",np.mean(a,0))  \n",
    "\n",
    "print(\"Average of array along axis 1:\",np.average(a,1))  "
   ]
  },
  {
   "cell_type": "code",
   "execution_count": 61,
   "metadata": {
    "execution": {
     "iopub.execute_input": "2021-07-18T14:07:19.489189Z",
     "iopub.status.busy": "2021-07-18T14:07:19.488192Z",
     "iopub.status.idle": "2021-07-18T14:07:19.494693Z",
     "shell.execute_reply": "2021-07-18T14:07:19.494115Z",
     "shell.execute_reply.started": "2021-07-15T02:47:04.24023Z"
    },
    "papermill": {
     "duration": 0.124745,
     "end_time": "2021-07-18T14:07:19.494847",
     "exception": false,
     "start_time": "2021-07-18T14:07:19.370102",
     "status": "completed"
    },
    "tags": []
   },
   "outputs": [
    {
     "name": "stdout",
     "output_type": "stream",
     "text": [
      "Our array is:\n",
      "[[1 2 3]\n",
      " [3 4 5]\n",
      " [4 5 6]]\n",
      "\n",
      "\n",
      "Applying mean() function:\n",
      "3.6666666666666665\n",
      "\n",
      "\n",
      "Applying mean() function along axis 0:\n",
      "[2.66666667 3.66666667 4.66666667]\n",
      "\n",
      "\n",
      "Applying mean() function along axis 1:\n",
      "[2. 4. 5.]\n"
     ]
    }
   ],
   "source": [
    "import numpy as np \n",
    "a = np.array([[1,2,3],[3,4,5],[4,5,6]]) \n",
    "\n",
    "print('Our array is:') \n",
    "print(a) \n",
    "print('\\n')  \n",
    "\n",
    "print('Applying mean() function:') \n",
    "print( np.mean(a)) \n",
    "print('\\n')  \n",
    "\n",
    "# along axis 0\n",
    "print('Applying mean() function along axis 0:') \n",
    "print(np.mean(a, axis = 0)) \n",
    "print('\\n') \n",
    "\n",
    "# along axis 1\n",
    "print('Applying mean() function along axis 1:') \n",
    "print(np.mean(a, axis = 1))"
   ]
  },
  {
   "cell_type": "markdown",
   "metadata": {
    "papermill": {
     "duration": 0.109443,
     "end_time": "2021-07-18T14:07:19.714142",
     "exception": false,
     "start_time": "2021-07-18T14:07:19.604699",
     "status": "completed"
    },
    "tags": []
   },
   "source": [
    "# NumPy Sorting and Searching\n",
    "\n",
    "Numpy provides a variety of functions for sorting and searching. There are various sorting algorithms like quicksort, merge sort and heapsort which is implemented using the numpy.sort() function.\n",
    "\n",
    "*The syntax to use the numpy.sort() function is given below*.\n",
    "\n",
    "**numpy.sort(a, axis, kind, order)**  "
   ]
  },
  {
   "cell_type": "code",
   "execution_count": 62,
   "metadata": {
    "execution": {
     "iopub.execute_input": "2021-07-18T14:07:19.947710Z",
     "iopub.status.busy": "2021-07-18T14:07:19.946851Z",
     "iopub.status.idle": "2021-07-18T14:07:19.950543Z",
     "shell.execute_reply": "2021-07-18T14:07:19.949812Z",
     "shell.execute_reply.started": "2021-07-15T02:47:07.419982Z"
    },
    "papermill": {
     "duration": 0.126902,
     "end_time": "2021-07-18T14:07:19.950727",
     "exception": false,
     "start_time": "2021-07-18T14:07:19.823825",
     "status": "completed"
    },
    "tags": []
   },
   "outputs": [
    {
     "name": "stdout",
     "output_type": "stream",
     "text": [
      "Sorting along the columns:\n",
      "[[ 2  3 10]\n",
      " [ 4  5  6]\n",
      " [ 7  8  9]]\n",
      "Sorting along the rows:\n",
      "[[ 4  2  3]\n",
      " [ 7  5  6]\n",
      " [10  8  9]]\n",
      "Sorting data ordered by name\n",
      "[(b'John', 251) (b'Mukesh', 200)]\n"
     ]
    }
   ],
   "source": [
    "import numpy as np  \n",
    "  \n",
    "a = np.array([[10,2,3],[4,5,6],[7,8,9]])  \n",
    "  \n",
    "print(\"Sorting along the columns:\")  \n",
    "print(np.sort(a))  \n",
    "  \n",
    "print(\"Sorting along the rows:\")  \n",
    "print(np.sort(a, 0))  \n",
    "  \n",
    "data_type = np.dtype([('name', 'S10'),('marks',int)])  \n",
    "  \n",
    "arr = np.array([('Mukesh',200),('John',251)],dtype = data_type)  \n",
    "  \n",
    "print(\"Sorting data ordered by name\")  \n",
    "  \n",
    "print(np.sort(arr,order = 'name'))  "
   ]
  },
  {
   "cell_type": "markdown",
   "metadata": {
    "papermill": {
     "duration": 0.110739,
     "end_time": "2021-07-18T14:07:20.198300",
     "exception": false,
     "start_time": "2021-07-18T14:07:20.087561",
     "status": "completed"
    },
    "tags": []
   },
   "source": [
    "* **Numpy.argsort() function**\n",
    "\n",
    " This function is used to perform an indirect sort on an input array that is, it returns an array of indices of data which is used to construct the array of sorted data"
   ]
  },
  {
   "cell_type": "code",
   "execution_count": 63,
   "metadata": {
    "execution": {
     "iopub.execute_input": "2021-07-18T14:07:20.430537Z",
     "iopub.status.busy": "2021-07-18T14:07:20.429834Z",
     "iopub.status.idle": "2021-07-18T14:07:20.434766Z",
     "shell.execute_reply": "2021-07-18T14:07:20.434183Z",
     "shell.execute_reply.started": "2021-07-15T02:47:10.059468Z"
    },
    "papermill": {
     "duration": 0.125511,
     "end_time": "2021-07-18T14:07:20.434932",
     "exception": false,
     "start_time": "2021-07-18T14:07:20.309421",
     "status": "completed"
    },
    "tags": []
   },
   "outputs": [
    {
     "name": "stdout",
     "output_type": "stream",
     "text": [
      "Original array:\n",
      " [90 29 89 12]\n",
      "Printing indices of sorted data\n",
      " [3 1 2 0]\n",
      "printing sorted array\n",
      "12 29 89 90 "
     ]
    }
   ],
   "source": [
    "import numpy as np  \n",
    "  \n",
    "a = np.array([90, 29, 89, 12])  \n",
    "  \n",
    "print(\"Original array:\\n\",a)  \n",
    "  \n",
    "sort_ind = np.argsort(a)  \n",
    "  \n",
    "print(\"Printing indices of sorted data\\n\",sort_ind)  \n",
    "  \n",
    "sort_a = a[sort_ind]  \n",
    "  \n",
    "print(\"printing sorted array\")  \n",
    "  \n",
    "for i in sort_ind:  \n",
    "    print(a[i],end = \" \")  "
   ]
  },
  {
   "cell_type": "markdown",
   "metadata": {
    "papermill": {
     "duration": 0.110455,
     "end_time": "2021-07-18T14:07:20.656681",
     "exception": false,
     "start_time": "2021-07-18T14:07:20.546226",
     "status": "completed"
    },
    "tags": []
   },
   "source": [
    "* **Numpy.lexsort() function**\n",
    "\n",
    " This function is used to sort the array using the sequence of keys indirectly. This function performs similarly to the numpy.argsort() which returns the array of indices of sorted data."
   ]
  },
  {
   "cell_type": "code",
   "execution_count": 64,
   "metadata": {
    "execution": {
     "iopub.execute_input": "2021-07-18T14:07:20.884154Z",
     "iopub.status.busy": "2021-07-18T14:07:20.881058Z",
     "iopub.status.idle": "2021-07-18T14:07:20.893906Z",
     "shell.execute_reply": "2021-07-18T14:07:20.894470Z",
     "shell.execute_reply.started": "2021-07-15T02:47:12.945402Z"
    },
    "papermill": {
     "duration": 0.127688,
     "end_time": "2021-07-18T14:07:20.894682",
     "exception": false,
     "start_time": "2021-07-18T14:07:20.766994",
     "status": "completed"
    },
    "tags": []
   },
   "outputs": [
    {
     "name": "stdout",
     "output_type": "stream",
     "text": [
      "printing indices of sorted data\n",
      "[0 3 1 4 2]\n",
      "using the indices to sort the array\n",
      "a 12\n",
      "d 12\n",
      "b 90\n",
      "e 211\n",
      "c 380\n"
     ]
    }
   ],
   "source": [
    "import numpy as np  \n",
    "  \n",
    "a = np.array(['a','b','c','d','e'])  \n",
    "  \n",
    "b = np.array([12, 90, 380, 12, 211])  \n",
    "  \n",
    "ind = np.lexsort((a,b))  \n",
    "  \n",
    "print(\"printing indices of sorted data\")  \n",
    "  \n",
    "print(ind)  \n",
    "  \n",
    "print(\"using the indices to sort the array\")  \n",
    "  \n",
    "for i in ind:  \n",
    "    print(a[i],b[i])  \n"
   ]
  },
  {
   "cell_type": "markdown",
   "metadata": {
    "papermill": {
     "duration": 0.110234,
     "end_time": "2021-07-18T14:07:21.114497",
     "exception": false,
     "start_time": "2021-07-18T14:07:21.004263",
     "status": "completed"
    },
    "tags": []
   },
   "source": [
    "* **Numpy.nonzero() function**\n",
    "\n",
    " This function is used to find the location of the non-zero elements from the array."
   ]
  },
  {
   "cell_type": "code",
   "execution_count": 65,
   "metadata": {
    "execution": {
     "iopub.execute_input": "2021-07-18T14:07:21.344900Z",
     "iopub.status.busy": "2021-07-18T14:07:21.344041Z",
     "iopub.status.idle": "2021-07-18T14:07:21.348862Z",
     "shell.execute_reply": "2021-07-18T14:07:21.348146Z",
     "shell.execute_reply.started": "2021-07-15T02:47:16.033037Z"
    },
    "papermill": {
     "duration": 0.124166,
     "end_time": "2021-07-18T14:07:21.349013",
     "exception": false,
     "start_time": "2021-07-18T14:07:21.224847",
     "status": "completed"
    },
    "tags": []
   },
   "outputs": [
    {
     "name": "stdout",
     "output_type": "stream",
     "text": [
      "printing original array [ 12  90 380  12 211]\n",
      "printing location of the non-zero elements\n",
      "(array([0, 1, 2, 3, 4]),)\n"
     ]
    }
   ],
   "source": [
    "import numpy as np  \n",
    "  \n",
    "b = np.array([12, 90, 380, 12, 211])  \n",
    "  \n",
    "print(\"printing original array\",b)  \n",
    "  \n",
    "print(\"printing location of the non-zero elements\")  \n",
    "  \n",
    "print(b.nonzero())  \n"
   ]
  },
  {
   "cell_type": "markdown",
   "metadata": {
    "papermill": {
     "duration": 0.11139,
     "end_time": "2021-07-18T14:07:21.571449",
     "exception": false,
     "start_time": "2021-07-18T14:07:21.460059",
     "status": "completed"
    },
    "tags": []
   },
   "source": [
    "* **Numpy.where() function**\n",
    "\n",
    " This function is used to return the indices of all the elements which satisfies a particular condition."
   ]
  },
  {
   "cell_type": "code",
   "execution_count": 66,
   "metadata": {
    "execution": {
     "iopub.execute_input": "2021-07-18T14:07:21.798454Z",
     "iopub.status.busy": "2021-07-18T14:07:21.797759Z",
     "iopub.status.idle": "2021-07-18T14:07:21.802007Z",
     "shell.execute_reply": "2021-07-18T14:07:21.801479Z",
     "shell.execute_reply.started": "2021-07-15T02:47:18.919677Z"
    },
    "papermill": {
     "duration": 0.120953,
     "end_time": "2021-07-18T14:07:21.802153",
     "exception": false,
     "start_time": "2021-07-18T14:07:21.681200",
     "status": "completed"
    },
    "tags": []
   },
   "outputs": [
    {
     "name": "stdout",
     "output_type": "stream",
     "text": [
      "(array([1, 2, 4]),)\n",
      "(array([0, 1, 1]), array([1, 0, 1]))\n"
     ]
    }
   ],
   "source": [
    "import numpy as np  \n",
    "  \n",
    "b = np.array([12, 90, 380, 12, 211])  \n",
    "  \n",
    "print(np.where(b>12))  \n",
    "  \n",
    "c = np.array([[20, 24],[21, 23]])  \n",
    "  \n",
    "print(np.where(c>20))"
   ]
  },
  {
   "cell_type": "markdown",
   "metadata": {
    "papermill": {
     "duration": 0.10971,
     "end_time": "2021-07-18T14:07:22.023154",
     "exception": false,
     "start_time": "2021-07-18T14:07:21.913444",
     "status": "completed"
    },
    "tags": []
   },
   "source": [
    "# NumPy Linear Algebra\n",
    "\n",
    "Numpy provides the following functions to perform the different algebraic calculations on the input data.\n",
    "\n",
    "* **Numpy.dot() function**\n",
    "\n",
    " This function is used to return the dot product of the two matrices. It is similar to the matrix multiplication. Consider the following example."
   ]
  },
  {
   "cell_type": "code",
   "execution_count": 67,
   "metadata": {
    "execution": {
     "iopub.execute_input": "2021-07-18T14:07:22.250935Z",
     "iopub.status.busy": "2021-07-18T14:07:22.250254Z",
     "iopub.status.idle": "2021-07-18T14:07:22.253940Z",
     "shell.execute_reply": "2021-07-18T14:07:22.253295Z",
     "shell.execute_reply.started": "2021-07-15T02:47:21.720946Z"
    },
    "papermill": {
     "duration": 0.121112,
     "end_time": "2021-07-18T14:07:22.254080",
     "exception": false,
     "start_time": "2021-07-18T14:07:22.132968",
     "status": "completed"
    },
    "tags": []
   },
   "outputs": [
    {
     "name": "stdout",
     "output_type": "stream",
     "text": [
      "[[3400 6200]\n",
      " [ 374  712]]\n"
     ]
    }
   ],
   "source": [
    "import numpy as np \n",
    "\n",
    "a = np.array([[100,200],[23,12]])  \n",
    "b = np.array([[10,20],[12,21]])  \n",
    "dot = np.dot(a,b)  \n",
    "print(dot)  "
   ]
  },
  {
   "cell_type": "markdown",
   "metadata": {
    "papermill": {
     "duration": 0.111731,
     "end_time": "2021-07-18T14:07:22.479601",
     "exception": false,
     "start_time": "2021-07-18T14:07:22.367870",
     "status": "completed"
    },
    "tags": []
   },
   "source": [
    "* **Numpy.vdot() function**\n",
    "\n",
    " This function is used to calculate the dot product of two vectors. It can be defined as the sum of the product of corresponding elements of multi-dimensional arrays."
   ]
  },
  {
   "cell_type": "code",
   "execution_count": 68,
   "metadata": {
    "execution": {
     "iopub.execute_input": "2021-07-18T14:07:22.744250Z",
     "iopub.status.busy": "2021-07-18T14:07:22.743500Z",
     "iopub.status.idle": "2021-07-18T14:07:22.747935Z",
     "shell.execute_reply": "2021-07-18T14:07:22.747376Z",
     "shell.execute_reply.started": "2021-07-15T02:47:24.290019Z"
    },
    "papermill": {
     "duration": 0.147032,
     "end_time": "2021-07-18T14:07:22.748089",
     "exception": false,
     "start_time": "2021-07-18T14:07:22.601057",
     "status": "completed"
    },
    "tags": []
   },
   "outputs": [
    {
     "name": "stdout",
     "output_type": "stream",
     "text": [
      "5528\n"
     ]
    }
   ],
   "source": [
    "import numpy as np  \n",
    "\n",
    "a = np.array([[100,200],[23,12]])  \n",
    "b = np.array([[10,20],[12,21]])  \n",
    "vdot = np.vdot(a,b)  \n",
    "print(vdot)  \n"
   ]
  },
  {
   "cell_type": "markdown",
   "metadata": {
    "papermill": {
     "duration": 0.112384,
     "end_time": "2021-07-18T14:07:22.973526",
     "exception": false,
     "start_time": "2021-07-18T14:07:22.861142",
     "status": "completed"
    },
    "tags": []
   },
   "source": [
    "* **Numpy.inner() function**\n",
    "\n",
    " This function returns the sum of the product of inner elements of the one-dimensional array. For n-dimensional arrays, it returns the sum of the product of elements over the last axis.\n",
    "\n"
   ]
  },
  {
   "cell_type": "code",
   "execution_count": 69,
   "metadata": {
    "execution": {
     "iopub.execute_input": "2021-07-18T14:07:23.203628Z",
     "iopub.status.busy": "2021-07-18T14:07:23.202938Z",
     "iopub.status.idle": "2021-07-18T14:07:23.206889Z",
     "shell.execute_reply": "2021-07-18T14:07:23.206386Z",
     "shell.execute_reply.started": "2021-07-15T02:47:28.419906Z"
    },
    "papermill": {
     "duration": 0.121411,
     "end_time": "2021-07-18T14:07:23.207046",
     "exception": false,
     "start_time": "2021-07-18T14:07:23.085635",
     "status": "completed"
    },
    "tags": []
   },
   "outputs": [
    {
     "name": "stdout",
     "output_type": "stream",
     "text": [
      "130\n"
     ]
    }
   ],
   "source": [
    "import numpy as np \n",
    "\n",
    "a = np.array([1,2,3,4,5,6])  \n",
    "b = np.array([23,23,12,2,1,2])  \n",
    "inner = np.inner(a,b)  \n",
    "print(inner)  \n"
   ]
  },
  {
   "cell_type": "markdown",
   "metadata": {
    "papermill": {
     "duration": 0.113987,
     "end_time": "2021-07-18T14:07:23.432736",
     "exception": false,
     "start_time": "2021-07-18T14:07:23.318749",
     "status": "completed"
    },
    "tags": []
   },
   "source": [
    "* **Numpy.matmul() function**\n",
    "\n",
    " It is used to return the multiplication of the two matrices. It gives an error if the shape of both matrices is not aligned for multiplication. Consider the following example."
   ]
  },
  {
   "cell_type": "code",
   "execution_count": 70,
   "metadata": {
    "execution": {
     "iopub.execute_input": "2021-07-18T14:07:23.664884Z",
     "iopub.status.busy": "2021-07-18T14:07:23.663987Z",
     "iopub.status.idle": "2021-07-18T14:07:23.667614Z",
     "shell.execute_reply": "2021-07-18T14:07:23.668131Z"
    },
    "papermill": {
     "duration": 0.123991,
     "end_time": "2021-07-18T14:07:23.668354",
     "exception": false,
     "start_time": "2021-07-18T14:07:23.544363",
     "status": "completed"
    },
    "tags": []
   },
   "outputs": [
    {
     "name": "stdout",
     "output_type": "stream",
     "text": [
      "[[ 48  49  43]\n",
      " [144 145 112]\n",
      " [240 241 181]]\n"
     ]
    }
   ],
   "source": [
    "import numpy as np  \n",
    "\n",
    "a = np.array([[1,2,3],[4,5,6],[7,8,9]])  \n",
    "b = np.array([[23,23,12],[2,1,2],[7,8,9]])  \n",
    "mul = np.matmul(a,b)  \n",
    "print(mul)  "
   ]
  },
  {
   "cell_type": "markdown",
   "metadata": {
    "papermill": {
     "duration": 0.112317,
     "end_time": "2021-07-18T14:07:23.893490",
     "exception": false,
     "start_time": "2021-07-18T14:07:23.781173",
     "status": "completed"
    },
    "tags": []
   },
   "source": [
    "* **Numpy determinant**\n",
    "\n",
    " The determinant of the matrix can be calculated using the diagonal elements. The determinant of following 2 X 2 matrix can be calculated as AD - BC.\n",
    "\n",
    " The numpy.linalg.det() function is used to calculate the determinant of the matrix. Consider the following example."
   ]
  },
  {
   "cell_type": "code",
   "execution_count": 71,
   "metadata": {
    "execution": {
     "iopub.execute_input": "2021-07-18T14:07:24.125018Z",
     "iopub.status.busy": "2021-07-18T14:07:24.124187Z",
     "iopub.status.idle": "2021-07-18T14:07:24.127876Z",
     "shell.execute_reply": "2021-07-18T14:07:24.128486Z",
     "shell.execute_reply.started": "2021-07-15T02:47:33.280885Z"
    },
    "papermill": {
     "duration": 0.122659,
     "end_time": "2021-07-18T14:07:24.128685",
     "exception": false,
     "start_time": "2021-07-18T14:07:24.006026",
     "status": "completed"
    },
    "tags": []
   },
   "outputs": [
    {
     "name": "stdout",
     "output_type": "stream",
     "text": [
      "-2.0000000000000004\n"
     ]
    }
   ],
   "source": [
    "import numpy as np  \n",
    "\n",
    "a = np.array([[1,2],[3,4]])  \n",
    "print(np.linalg.det(a))  "
   ]
  },
  {
   "cell_type": "markdown",
   "metadata": {
    "papermill": {
     "duration": 0.112755,
     "end_time": "2021-07-18T14:07:24.354908",
     "exception": false,
     "start_time": "2021-07-18T14:07:24.242153",
     "status": "completed"
    },
    "tags": []
   },
   "source": [
    "* **Numpy.linalg.inv() function**\n",
    "\n",
    " This function is used to calculate the multiplicative inverse of the input matrix. Consider the following example."
   ]
  },
  {
   "cell_type": "code",
   "execution_count": 72,
   "metadata": {
    "execution": {
     "iopub.execute_input": "2021-07-18T14:07:24.593371Z",
     "iopub.status.busy": "2021-07-18T14:07:24.587226Z",
     "iopub.status.idle": "2021-07-18T14:07:24.597435Z",
     "shell.execute_reply": "2021-07-18T14:07:24.596423Z",
     "shell.execute_reply.started": "2021-07-15T02:47:40.13059Z"
    },
    "papermill": {
     "duration": 0.129002,
     "end_time": "2021-07-18T14:07:24.597695",
     "exception": false,
     "start_time": "2021-07-18T14:07:24.468693",
     "status": "completed"
    },
    "tags": []
   },
   "outputs": [
    {
     "name": "stdout",
     "output_type": "stream",
     "text": [
      "Original array:\n",
      " [[1 2]\n",
      " [3 4]]\n",
      "Inverse:\n",
      " [[-2.   1. ]\n",
      " [ 1.5 -0.5]]\n"
     ]
    }
   ],
   "source": [
    "import numpy as np  \n",
    "\n",
    "a = np.array([[1,2],[3,4]])  \n",
    "print(\"Original array:\\n\",a)  \n",
    "b = np.linalg.inv(a)  \n",
    "print(\"Inverse:\\n\",b)  "
   ]
  },
  {
   "cell_type": "markdown",
   "metadata": {
    "papermill": {
     "duration": 0.112594,
     "end_time": "2021-07-18T14:07:24.872155",
     "exception": false,
     "start_time": "2021-07-18T14:07:24.759561",
     "status": "completed"
    },
    "tags": []
   },
   "source": [
    "# NumPy - Copies & Views\n",
    "\n",
    "While executing the functions, some of them return a copy of the input array, while some return the view. When the contents are physically stored in another location, it is called **Copy**. If on the other hand, a different view of the same memory content is provided, we call it as **View**.\n",
    "\n",
    "**No Copy**\n",
    "\n",
    "Simple assignments do not make the copy of array object. Instead, it uses the same id() of the original array to access it. The id() returns a universal identifier of Python object, similar to the pointer in C.\n",
    "\n",
    "Furthermore, any changes in either gets reflected in the other. For example, the changing shape of one will change the shape of the other too."
   ]
  },
  {
   "cell_type": "code",
   "execution_count": 73,
   "metadata": {
    "execution": {
     "iopub.execute_input": "2021-07-18T14:07:25.111344Z",
     "iopub.status.busy": "2021-07-18T14:07:25.110614Z",
     "iopub.status.idle": "2021-07-18T14:07:25.115025Z",
     "shell.execute_reply": "2021-07-18T14:07:25.114486Z"
    },
    "papermill": {
     "duration": 0.127988,
     "end_time": "2021-07-18T14:07:25.115173",
     "exception": false,
     "start_time": "2021-07-18T14:07:24.987185",
     "status": "completed"
    },
    "tags": []
   },
   "outputs": [
    {
     "name": "stdout",
     "output_type": "stream",
     "text": [
      "Our array is:\n",
      "[0 1 2 3 4 5]\n",
      "Applying id() function:\n",
      "139862401016576\n",
      "a is assigned to b:\n",
      "[0 1 2 3 4 5]\n",
      "b has same id():\n",
      "139862401016576\n",
      "Change shape of b:\n",
      "[[0 1]\n",
      " [2 3]\n",
      " [4 5]]\n",
      "Shape of a also gets changed:\n",
      "[[0 1]\n",
      " [2 3]\n",
      " [4 5]]\n"
     ]
    }
   ],
   "source": [
    "import numpy as np \n",
    "a = np.arange(6) \n",
    "\n",
    "print('Our array is:') \n",
    "print(a)  \n",
    "\n",
    "print('Applying id() function:')\n",
    "print(id(a))  \n",
    "\n",
    "print('a is assigned to b:')\n",
    "b = a \n",
    "print(b)  \n",
    "\n",
    "print('b has same id():') \n",
    "print(id(b))\n",
    "\n",
    "print('Change shape of b:') \n",
    "b.shape = 3,2 \n",
    "print(b)  \n",
    "\n",
    "print('Shape of a also gets changed:') \n",
    "print(a)"
   ]
  },
  {
   "cell_type": "markdown",
   "metadata": {
    "papermill": {
     "duration": 0.113076,
     "end_time": "2021-07-18T14:07:25.342045",
     "exception": false,
     "start_time": "2021-07-18T14:07:25.228969",
     "status": "completed"
    },
    "tags": []
   },
   "source": [
    "* **View or Shallow Copy**\n",
    "\n",
    " **NumPy has ndarray.view()** method which is a new array object that looks at the same data of the original array. Unlike the earlier case, change in dimensions of the new array doesn’t change dimensions of the original."
   ]
  },
  {
   "cell_type": "code",
   "execution_count": 74,
   "metadata": {
    "execution": {
     "iopub.execute_input": "2021-07-18T14:07:25.576560Z",
     "iopub.status.busy": "2021-07-18T14:07:25.575636Z",
     "iopub.status.idle": "2021-07-18T14:07:25.588383Z",
     "shell.execute_reply": "2021-07-18T14:07:25.587827Z"
    },
    "papermill": {
     "duration": 0.13008,
     "end_time": "2021-07-18T14:07:25.588546",
     "exception": false,
     "start_time": "2021-07-18T14:07:25.458466",
     "status": "completed"
    },
    "tags": []
   },
   "outputs": [
    {
     "name": "stdout",
     "output_type": "stream",
     "text": [
      "Array a:\n",
      "[[0 1]\n",
      " [2 3]\n",
      " [4 5]]\n",
      "Create view of a:\n",
      "[[0 1]\n",
      " [2 3]\n",
      " [4 5]]\n",
      "id() for both the arrays are different:\n",
      "id() of a:\n",
      "139862400959392\n",
      "id() of b:\n",
      "139862400956816\n",
      "Shape of b:\n",
      "[[0 1 2]\n",
      " [3 4 5]]\n",
      "Shape of a:\n",
      "[[0 1]\n",
      " [2 3]\n",
      " [4 5]]\n"
     ]
    }
   ],
   "source": [
    "import numpy as np \n",
    "# To begin with, a is 3X2 array \n",
    "a = np.arange(6).reshape(3,2) \n",
    "\n",
    "print('Array a:') \n",
    "print(a)  \n",
    "\n",
    "print('Create view of a:') \n",
    "b = a.view() \n",
    "print(b) \n",
    "\n",
    "print('id() for both the arrays are different:') \n",
    "print('id() of a:')\n",
    "print(id(a))\n",
    "print('id() of b:') \n",
    "print(id(b))  \n",
    "\n",
    "# Change the shape of b. It does not change the shape of a \n",
    "b.shape = 2,3 \n",
    "\n",
    "print('Shape of b:') \n",
    "print(b)  \n",
    "\n",
    "print('Shape of a:')\n",
    "print(a)"
   ]
  },
  {
   "cell_type": "code",
   "execution_count": 75,
   "metadata": {
    "execution": {
     "iopub.execute_input": "2021-07-18T14:07:25.828939Z",
     "iopub.status.busy": "2021-07-18T14:07:25.828079Z",
     "iopub.status.idle": "2021-07-18T14:07:25.833484Z",
     "shell.execute_reply": "2021-07-18T14:07:25.832758Z"
    },
    "papermill": {
     "duration": 0.130596,
     "end_time": "2021-07-18T14:07:25.833698",
     "exception": false,
     "start_time": "2021-07-18T14:07:25.703102",
     "status": "completed"
    },
    "tags": []
   },
   "outputs": [
    {
     "name": "stdout",
     "output_type": "stream",
     "text": [
      "Array a:\n",
      "[[0 1]\n",
      " [2 3]\n",
      " [4 5]]\n",
      "Create view of a:\n",
      "[[0 1]\n",
      " [2 3]\n",
      " [4 5]]\n",
      "id() for both the arrays are different:\n",
      "id() of a:\n",
      "139862392096928\n",
      "id() of b:\n",
      "139862392098608\n",
      "Shape of b:\n",
      "[[0 1 2]\n",
      " [3 4 5]]\n",
      "Shape of a:\n",
      "[[0 1]\n",
      " [2 3]\n",
      " [4 5]]\n"
     ]
    }
   ],
   "source": [
    "import numpy as np \n",
    "# To begin with, a is 3X2 array \n",
    "a = np.arange(6).reshape(3,2) \n",
    "\n",
    "print('Array a:')\n",
    "print(a)\n",
    "\n",
    "print('Create view of a:') \n",
    "b = a.view() \n",
    "print(b)\n",
    "\n",
    "print('id() for both the arrays are different:')\n",
    "print('id() of a:')\n",
    "print(id(a))\n",
    "print('id() of b:') \n",
    "print(id(b))  \n",
    "\n",
    "# Change the shape of b. It does not change the shape of a \n",
    "b.shape = 2,3 \n",
    "\n",
    "print('Shape of b:') \n",
    "print(b)\n",
    "\n",
    "print('Shape of a:')\n",
    "print(a)"
   ]
  },
  {
   "cell_type": "code",
   "execution_count": 76,
   "metadata": {
    "execution": {
     "iopub.execute_input": "2021-07-18T14:07:26.073354Z",
     "iopub.status.busy": "2021-07-18T14:07:26.072657Z",
     "iopub.status.idle": "2021-07-18T14:07:26.075507Z",
     "shell.execute_reply": "2021-07-18T14:07:26.076029Z"
    },
    "papermill": {
     "duration": 0.125808,
     "end_time": "2021-07-18T14:07:26.076223",
     "exception": false,
     "start_time": "2021-07-18T14:07:25.950415",
     "status": "completed"
    },
    "tags": []
   },
   "outputs": [
    {
     "name": "stdout",
     "output_type": "stream",
     "text": [
      "Our array is:\n",
      "[[10 10]\n",
      " [ 2  3]\n",
      " [ 4  5]]\n",
      "Create a slice:\n",
      "[[10 10]\n",
      " [ 2  3]\n",
      " [ 4  5]]\n"
     ]
    }
   ],
   "source": [
    "import numpy as np \n",
    "a = np.array([[10,10], [2,3], [4,5]]) \n",
    "\n",
    "print('Our array is:') \n",
    "print(a)  \n",
    "\n",
    "print('Create a slice:') \n",
    "s = a[:, :2] \n",
    "print(s) "
   ]
  },
  {
   "cell_type": "markdown",
   "metadata": {
    "papermill": {
     "duration": 0.11475,
     "end_time": "2021-07-18T14:07:26.307386",
     "exception": false,
     "start_time": "2021-07-18T14:07:26.192636",
     "status": "completed"
    },
    "tags": []
   },
   "source": [
    "* **Deep Copy**\n",
    "\n",
    " The ndarray.copy() function creates a deep copy. It is a complete copy of the array and its data, and doesn’t share with the original array."
   ]
  },
  {
   "cell_type": "code",
   "execution_count": 77,
   "metadata": {
    "execution": {
     "iopub.execute_input": "2021-07-18T14:07:26.546075Z",
     "iopub.status.busy": "2021-07-18T14:07:26.545407Z",
     "iopub.status.idle": "2021-07-18T14:07:26.558957Z",
     "shell.execute_reply": "2021-07-18T14:07:26.557913Z"
    },
    "papermill": {
     "duration": 0.134434,
     "end_time": "2021-07-18T14:07:26.559286",
     "exception": false,
     "start_time": "2021-07-18T14:07:26.424852",
     "status": "completed"
    },
    "tags": []
   },
   "outputs": [
    {
     "name": "stdout",
     "output_type": "stream",
     "text": [
      "Array a is:\n",
      "[[10 10]\n",
      " [ 2  3]\n",
      " [ 4  5]]\n",
      "Create a deep copy of a:\n",
      "Array b is:\n",
      "[[10 10]\n",
      " [ 2  3]\n",
      " [ 4  5]]\n",
      "Can we write b is a\n",
      "False\n",
      "Change the contents of b:\n",
      "Modified array b:\n",
      "[[100  10]\n",
      " [  2   3]\n",
      " [  4   5]]\n",
      "a remains unchanged:\n",
      "[[10 10]\n",
      " [ 2  3]\n",
      " [ 4  5]]\n"
     ]
    }
   ],
   "source": [
    "import numpy as np \n",
    "a = np.array([[10,10], [2,3], [4,5]]) \n",
    "\n",
    "print('Array a is:') \n",
    "print(a)\n",
    "\n",
    "print('Create a deep copy of a:') \n",
    "b = a.copy() \n",
    "print('Array b is:') \n",
    "print(b) \n",
    "\n",
    "#b does not share any memory of a \n",
    "print('Can we write b is a')\n",
    "print(b is a)  \n",
    "\n",
    "print('Change the contents of b:') \n",
    "b[0,0] = 100 \n",
    "\n",
    "print('Modified array b:')\n",
    "print(b)\n",
    "\n",
    "print('a remains unchanged:') \n",
    "print(a)"
   ]
  },
  {
   "cell_type": "markdown",
   "metadata": {
    "papermill": {
     "duration": 0.115438,
     "end_time": "2021-07-18T14:07:26.792698",
     "exception": false,
     "start_time": "2021-07-18T14:07:26.677260",
     "status": "completed"
    },
    "tags": []
   },
   "source": [
    "# Some Additional Function\n",
    "\n",
    "\n",
    "* **Numpy.concatenate() fuction**\n",
    "\n",
    " The concatenate() function is a function from the NumPy package. This function essentially combines NumPy arrays together. This function is basically used for joining two or more arrays of the same shape along a specified axis. There are the following things which are essential to keep in mind:\n",
    "\n",
    " NumPy's concatenate() is not like a traditional database join. It is like stacking NumPy arrays.\n",
    "This function can operate both vertically and horizontally. This means we can concatenate arrays together horizontally or vertically.\n"
   ]
  },
  {
   "cell_type": "code",
   "execution_count": 78,
   "metadata": {
    "execution": {
     "iopub.execute_input": "2021-07-18T14:07:27.096600Z",
     "iopub.status.busy": "2021-07-18T14:07:27.095874Z",
     "iopub.status.idle": "2021-07-18T14:07:27.099738Z",
     "shell.execute_reply": "2021-07-18T14:07:27.100453Z"
    },
    "papermill": {
     "duration": 0.191894,
     "end_time": "2021-07-18T14:07:27.100703",
     "exception": false,
     "start_time": "2021-07-18T14:07:26.908809",
     "status": "completed"
    },
    "tags": []
   },
   "outputs": [
    {
     "name": "stdout",
     "output_type": "stream",
     "text": [
      "[[ 1  2]\n",
      " [ 3  4]\n",
      " [12 30]]\n"
     ]
    }
   ],
   "source": [
    "import numpy as np  \n",
    "\n",
    "x=np.array([[1,2],[3,4]])  \n",
    "y=np.array([[12,30]])  \n",
    "\n",
    "\n",
    "z=np.concatenate((x,y))  \n",
    "print(z)"
   ]
  },
  {
   "cell_type": "code",
   "execution_count": 79,
   "metadata": {
    "execution": {
     "iopub.execute_input": "2021-07-18T14:07:27.341354Z",
     "iopub.status.busy": "2021-07-18T14:07:27.340674Z",
     "iopub.status.idle": "2021-07-18T14:07:27.343954Z",
     "shell.execute_reply": "2021-07-18T14:07:27.343299Z"
    },
    "papermill": {
     "duration": 0.124915,
     "end_time": "2021-07-18T14:07:27.344110",
     "exception": false,
     "start_time": "2021-07-18T14:07:27.219195",
     "status": "completed"
    },
    "tags": []
   },
   "outputs": [
    {
     "name": "stdout",
     "output_type": "stream",
     "text": [
      "[[ 1  2]\n",
      " [ 3  4]\n",
      " [12 30]]\n"
     ]
    }
   ],
   "source": [
    "import numpy as np  \n",
    "\n",
    "x=np.array([[1,2],[3,4]])  \n",
    "y=np.array([[12,30]])  \n",
    "\n",
    "z=np.concatenate((x,y), axis=0)  \n",
    "print(z) "
   ]
  },
  {
   "cell_type": "code",
   "execution_count": 80,
   "metadata": {
    "execution": {
     "iopub.execute_input": "2021-07-18T14:07:27.589759Z",
     "iopub.status.busy": "2021-07-18T14:07:27.588972Z",
     "iopub.status.idle": "2021-07-18T14:07:27.593472Z",
     "shell.execute_reply": "2021-07-18T14:07:27.592878Z"
    },
    "papermill": {
     "duration": 0.130427,
     "end_time": "2021-07-18T14:07:27.593631",
     "exception": false,
     "start_time": "2021-07-18T14:07:27.463204",
     "status": "completed"
    },
    "tags": []
   },
   "outputs": [
    {
     "name": "stdout",
     "output_type": "stream",
     "text": [
      "[[ 1  2 12]\n",
      " [ 3  4 30]]\n"
     ]
    }
   ],
   "source": [
    "import numpy as np  \n",
    "\n",
    "x=np.array([[1,2],[3,4]])  \n",
    "y=np.array([[12,30]])  \n",
    "\n",
    "z=np.concatenate((x,y.T), axis=1)  \n",
    "print(z)  \n",
    "\n",
    "# In this example, the '.T' used to change the rows into columns and columns into rows.\n",
    "\n"
   ]
  },
  {
   "cell_type": "markdown",
   "metadata": {
    "papermill": {
     "duration": 0.119224,
     "end_time": "2021-07-18T14:07:27.830216",
     "exception": false,
     "start_time": "2021-07-18T14:07:27.710992",
     "status": "completed"
    },
    "tags": []
   },
   "source": [
    "* **Numpy.append() function**\n",
    "\n",
    " The numpy.append() function is available in NumPy package. As the name suggests, append means adding something. The numpy.append() function is used to add or append new values to an existing numpy array. This function adds the new values at the end of the array.\n",
    "\n",
    " The numpy append() function is used to merge two arrays. It returns a new array, and the original array remains unchanged\n",
    " \n",
    " *Syntax*\n",
    " \n",
    " **numpy.append(arr, values, axis=None)**"
   ]
  },
  {
   "cell_type": "code",
   "execution_count": 81,
   "metadata": {
    "execution": {
     "iopub.execute_input": "2021-07-18T14:07:28.072685Z",
     "iopub.status.busy": "2021-07-18T14:07:28.072014Z",
     "iopub.status.idle": "2021-07-18T14:07:28.075070Z",
     "shell.execute_reply": "2021-07-18T14:07:28.075821Z"
    },
    "papermill": {
     "duration": 0.128436,
     "end_time": "2021-07-18T14:07:28.076069",
     "exception": false,
     "start_time": "2021-07-18T14:07:27.947633",
     "status": "completed"
    },
    "tags": []
   },
   "outputs": [
    {
     "name": "stdout",
     "output_type": "stream",
     "text": [
      "[10 20 30 40 50 60 70 80 90 11 21 31 42 52 62 73 83 93]\n"
     ]
    }
   ],
   "source": [
    "import numpy as np  \n",
    "\n",
    "a=np.array([[10, 20, 30], [40, 50, 60], [70, 80, 90]])  \n",
    "b=np.array([[11, 21, 31], [42, 52, 62], [73, 83, 93]])  \n",
    "\n",
    "c=np.append(a,b)  \n",
    "print(c)  "
   ]
  },
  {
   "cell_type": "code",
   "execution_count": 82,
   "metadata": {
    "execution": {
     "iopub.execute_input": "2021-07-18T14:07:28.314311Z",
     "iopub.status.busy": "2021-07-18T14:07:28.313625Z",
     "iopub.status.idle": "2021-07-18T14:07:28.320981Z",
     "shell.execute_reply": "2021-07-18T14:07:28.321781Z"
    },
    "papermill": {
     "duration": 0.128269,
     "end_time": "2021-07-18T14:07:28.322068",
     "exception": false,
     "start_time": "2021-07-18T14:07:28.193799",
     "status": "completed"
    },
    "tags": []
   },
   "outputs": [
    {
     "name": "stdout",
     "output_type": "stream",
     "text": [
      "[[10 20 30]\n",
      " [40 50 60]\n",
      " [70 80 90]\n",
      " [11 21 31]\n",
      " [42 52 62]\n",
      " [73 83 93]]\n"
     ]
    }
   ],
   "source": [
    "import numpy as np  \n",
    "\n",
    "a=np.array([[10, 20, 30], [40, 50, 60], [70, 80, 90]])  \n",
    "b=np.array([[11, 21, 31], [42, 52, 62], [73, 83, 93]])  \n",
    "\n",
    "c=np.append(a,b,axis=0)  \n",
    "print(c)  "
   ]
  },
  {
   "cell_type": "code",
   "execution_count": 83,
   "metadata": {
    "execution": {
     "iopub.execute_input": "2021-07-18T14:07:28.571371Z",
     "iopub.status.busy": "2021-07-18T14:07:28.570567Z",
     "iopub.status.idle": "2021-07-18T14:07:28.574629Z",
     "shell.execute_reply": "2021-07-18T14:07:28.573984Z"
    },
    "papermill": {
     "duration": 0.131748,
     "end_time": "2021-07-18T14:07:28.574776",
     "exception": false,
     "start_time": "2021-07-18T14:07:28.443028",
     "status": "completed"
    },
    "tags": []
   },
   "outputs": [
    {
     "name": "stdout",
     "output_type": "stream",
     "text": [
      "[[10 20 30 11 21 31]\n",
      " [40 50 60 42 52 62]\n",
      " [70 80 90 73 83 93]]\n"
     ]
    }
   ],
   "source": [
    "import numpy as np  \n",
    "\n",
    "a=np.array([[10, 20, 30], [40, 50, 60], [70, 80, 90]])  \n",
    "b=np.array([[11, 21, 31], [42, 52, 62], [73, 83, 93]])  \n",
    "\n",
    "c=np.append(a,b,axis=1)  \n",
    "print(c)  "
   ]
  },
  {
   "cell_type": "markdown",
   "metadata": {
    "papermill": {
     "duration": 0.116753,
     "end_time": "2021-07-18T14:07:28.809013",
     "exception": false,
     "start_time": "2021-07-18T14:07:28.692260",
     "status": "completed"
    },
    "tags": []
   },
   "source": [
    "# Note \n",
    "\n",
    "You should also understand one thing guy's always make sure that you are using numpy because numpy has bindings of C++ libraries . So wheneveryou have susuch kind  of sence kind of bindings of C amd C++ libraries usually through the operation take place very quickly ."
   ]
  }
 ],
 "metadata": {
  "kernelspec": {
   "display_name": "Python 3",
   "language": "python",
   "name": "python3"
  },
  "language_info": {
   "codemirror_mode": {
    "name": "ipython",
    "version": 3
   },
   "file_extension": ".py",
   "mimetype": "text/x-python",
   "name": "python",
   "nbconvert_exporter": "python",
   "pygments_lexer": "ipython3",
   "version": "3.8.5"
  },
  "papermill": {
   "default_parameters": {},
   "duration": 48.875896,
   "end_time": "2021-07-18T14:07:30.074417",
   "environment_variables": {},
   "exception": null,
   "input_path": "__notebook__.ipynb",
   "output_path": "__notebook__.ipynb",
   "parameters": {},
   "start_time": "2021-07-18T14:06:41.198521",
   "version": "2.3.3"
  }
 },
 "nbformat": 4,
 "nbformat_minor": 5
}
